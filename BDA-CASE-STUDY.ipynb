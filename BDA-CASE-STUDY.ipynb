{
 "cells": [
  {
   "cell_type": "code",
   "execution_count": null,
   "id": "3b81d646-7edc-4813-b523-c9afd6f72b3f",
   "metadata": {},
   "outputs": [
    {
     "name": "stdout",
     "output_type": "stream",
     "text": [
      "+----+-------+---+----+---+----+---+----+\n",
      "|S.NO|SECTION|DV |M-II|PP |BEEE|FL |FIMS|\n",
      "+----+-------+---+----+---+----+---+----+\n",
      "|1   |ALPHA  |12 |0   |17 |9   |19 |15  |\n",
      "|2   |ALPHA  |19 |12  |16 |16  |18 |3   |\n",
      "|3   |ALPHA  |18 |14  |18 |18  |18 |16  |\n",
      "|4   |ALPHA  |15 |9   |19 |17  |19 |15  |\n",
      "|5   |ALPHA  |18 |17  |19 |19  |20 |18  |\n",
      "|6   |ALPHA  |17 |16  |18 |10  |15 |9   |\n",
      "|7   |ALPHA  |15 |10  |20 |20  |15 |14  |\n",
      "|8   |ALPHA  |17 |17  |19 |20  |19 |13  |\n",
      "|9   |ALPHA  |10 |18  |A  |20  |19 |15  |\n",
      "|10  |ALPHA  |18 |19  |20 |20  |20 |15  |\n",
      "+----+-------+---+----+---+----+---+----+\n",
      "only showing top 10 rows\n",
      "\n",
      "root\n",
      " |-- S.NO: integer (nullable = true)\n",
      " |-- SECTION: string (nullable = true)\n",
      " |-- DV: string (nullable = true)\n",
      " |-- M-II: string (nullable = true)\n",
      " |-- PP: string (nullable = true)\n",
      " |-- BEEE: string (nullable = true)\n",
      " |-- FL: string (nullable = true)\n",
      " |-- FIMS: string (nullable = true)\n",
      "\n"
     ]
    }
   ],
   "source": [
    "from pyspark.sql import SparkSession\n",
    "from pyspark.sql import functions as F\n",
    "\n",
    "# Start Spark\n",
    "spark = SparkSession.builder.appName(\"MidMarks\").getOrCreate()\n",
    "\n",
    "# Read the CSV \n",
    "df = spark.read.option(\"header\", True).option(\"inferSchema\", True).csv(\"C:/Users/intur/Desktop/INDRAKIRAN/MRU/4-1/BDA/MIDMARKS-Spark.csv\")\n",
    "df.show(10, truncate=False)\n",
    "df.printSchema()\n"
   ]
  },
  {
   "cell_type": "code",
   "execution_count": null,
   "id": "76b2582d-2317-4af3-8511-84de0f113551",
   "metadata": {},
   "outputs": [
    {
     "name": "stdout",
     "output_type": "stream",
     "text": [
      "+----+-------+---+----+---+----+---+----+\n",
      "|S.NO|SECTION| DV|M-II| PP|BEEE| FL|FIMS|\n",
      "+----+-------+---+----+---+----+---+----+\n",
      "| 117|     27|  2|   2|  2|   2|  3|   2|\n",
      "+----+-------+---+----+---+----+---+----+\n",
      "\n"
     ]
    }
   ],
   "source": [
    "null_counts = df.select([\n",
    "    F.count(F.when(F.col(f\"`{c}`\").isNull() | (F.col(f\"`{c}`\") == \"\"), c)).alias(c)\n",
    "    for c in df.columns\n",
    "])\n",
    "null_counts.show()\n"
   ]
  },
  {
   "cell_type": "code",
   "execution_count": 13,
   "id": "6d60f4f9-c4c2-4da3-bb5a-d2208b12b3f1",
   "metadata": {},
   "outputs": [
    {
     "name": "stdout",
     "output_type": "stream",
     "text": [
      "+----+-------+---+----+---+----+---+----+-----+\n",
      "|S.NO|SECTION| DV|M-II| PP|BEEE| FL|FIMS|total|\n",
      "+----+-------+---+----+---+----+---+----+-----+\n",
      "| 117|     27|  2|   2|  2|   2|  3|   2|   36|\n",
      "+----+-------+---+----+---+----+---+----+-----+\n",
      "\n"
     ]
    }
   ],
   "source": [
    "import pyspark.sql.functions as F\n",
    "\n",
    "# Count nulls and empty strings\n",
    "null_counts = df.select([\n",
    "    F.count(F.when(F.col(f\"`{c}`\").isNull() | (F.col(f\"`{c}`\") == \"\"), c)).alias(c)\n",
    "    for c in df.columns\n",
    "])\n",
    "null_counts.show()\n"
   ]
  },
  {
   "cell_type": "code",
   "execution_count": 17,
   "id": "3cdf86ee-7d93-4098-aa07-d6cd943a9546",
   "metadata": {},
   "outputs": [],
   "source": [
    "from pyspark.sql.types import NumericType\n",
    "\n",
    "numeric_cols = [c for c, t in df.dtypes if isinstance(df.schema[c].dataType, NumericType)]\n",
    "string_cols = [c for c in df.columns if c not in numeric_cols]\n"
   ]
  },
  {
   "cell_type": "code",
   "execution_count": 21,
   "id": "5102e35c-1a05-41cf-a565-bd6ac55bddbc",
   "metadata": {},
   "outputs": [],
   "source": [
    "df = df.withColumnRenamed(\"S.NO\", \"SNO\")\n"
   ]
  },
  {
   "cell_type": "code",
   "execution_count": 23,
   "id": "485d20f5-fc5e-49b6-8ad6-5e5c980d5969",
   "metadata": {},
   "outputs": [],
   "source": [
    "numeric_cols = [c for c, t in df.dtypes if t in (\"int\", \"double\", \"float\", \"bigint\")]\n",
    "string_cols = [c for c in df.columns if c not in numeric_cols]\n",
    "\n",
    "df = df.fillna(0, subset=numeric_cols)\n",
    "df = df.fillna(\"Unknown\", subset=string_cols)\n",
    "\n",
    "for c in string_cols:\n",
    "    df = df.withColumn(c, F.when(F.col(c) == \"\", \"Unknown\").otherwise(F.col(c)))\n"
   ]
  },
  {
   "cell_type": "code",
   "execution_count": 25,
   "id": "e5061ae2-53ae-4662-afc6-e5a1458a939b",
   "metadata": {},
   "outputs": [
    {
     "name": "stdout",
     "output_type": "stream",
     "text": [
      "Numeric columns: ['SNO', 'total']\n",
      "String columns: ['SECTION', 'DV', 'M-II', 'PP', 'BEEE', 'FL', 'FIMS']\n"
     ]
    }
   ],
   "source": [
    "from pyspark.sql.types import NumericType\n",
    "\n",
    "numeric_cols = [c for c, t in df.dtypes if t in (\"int\", \"double\", \"float\", \"bigint\")]\n",
    "string_cols = [c for c in df.columns if c not in numeric_cols]\n",
    "print(\"Numeric columns:\", numeric_cols)\n",
    "print(\"String columns:\", string_cols)\n"
   ]
  },
  {
   "cell_type": "code",
   "execution_count": null,
   "id": "e8293032-a4fe-4459-b80a-eb1fc076025a",
   "metadata": {},
   "outputs": [],
   "source": [
    "\n",
    "subject_cols = [c for c in numeric_cols if c not in [\"SNO\"]]\n",
    "\n",
    "df = df.withColumn(\n",
    "    \"total\",\n",
    "    sum(F.col(c).cast(\"double\") for c in subject_cols)\n",
    ")\n"
   ]
  },
  {
   "cell_type": "code",
   "execution_count": 29,
   "id": "d81b7dc7-1495-47cf-8daf-4dd7cd21c2da",
   "metadata": {},
   "outputs": [
    {
     "name": "stdout",
     "output_type": "stream",
     "text": [
      "+---+-------+-----+-----+\n",
      "|SNO|SECTION|total|total|\n",
      "+---+-------+-----+-----+\n",
      "|1  |ALPHA  |72.0 |72.0 |\n",
      "|2  |ALPHA  |84.0 |84.0 |\n",
      "|3  |ALPHA  |102.0|102.0|\n",
      "|4  |ALPHA  |94.0 |94.0 |\n",
      "|5  |ALPHA  |111.0|111.0|\n",
      "|6  |ALPHA  |85.0 |85.0 |\n",
      "|7  |ALPHA  |94.0 |94.0 |\n",
      "|8  |ALPHA  |105.0|105.0|\n",
      "|9  |ALPHA  |0.0  |0.0  |\n",
      "|10 |ALPHA  |112.0|112.0|\n",
      "+---+-------+-----+-----+\n",
      "only showing top 10 rows\n",
      "\n"
     ]
    }
   ],
   "source": [
    "df.select(\"SNO\", \"SECTION\", *subject_cols, \"total\").show(10, truncate=False)\n"
   ]
  },
  {
   "cell_type": "code",
   "execution_count": 35,
   "id": "9bcc410c-2cc5-4c97-8309-8e4251983e2d",
   "metadata": {},
   "outputs": [],
   "source": [
    "if \"total\" in df.columns:\n",
    "    df = df.drop(\"total\")\n"
   ]
  },
  {
   "cell_type": "code",
   "execution_count": null,
   "id": "05c03a5e-9818-473f-866c-2f883d2c11aa",
   "metadata": {},
   "outputs": [],
   "source": [
    "subject_cols = [\"DV\", \"M-II\", \"PP\", \"BEEE\", \"FL\", \"FIMS\"]\n",
    "\n",
    "for c in subject_cols:\n",
    "    df = df.withColumn(c, F.col(c).cast(\"int\"))\n"
   ]
  },
  {
   "cell_type": "code",
   "execution_count": 39,
   "id": "ea2811f1-dac4-4cb6-8ab8-b9262a11086b",
   "metadata": {},
   "outputs": [],
   "source": [
    "df = df.withColumn(\n",
    "    \"total\",\n",
    "    sum(F.col(c) for c in subject_cols)\n",
    ")\n"
   ]
  },
  {
   "cell_type": "code",
   "execution_count": 41,
   "id": "9063fc30-f78f-4904-bc0c-5902cb73071b",
   "metadata": {},
   "outputs": [
    {
     "name": "stdout",
     "output_type": "stream",
     "text": [
      "+---+-------+---+----+----+----+---+----+-----+\n",
      "|SNO|SECTION|DV |M-II|PP  |BEEE|FL |FIMS|total|\n",
      "+---+-------+---+----+----+----+---+----+-----+\n",
      "|1  |ALPHA  |12 |0   |17  |9   |19 |15  |72   |\n",
      "|2  |ALPHA  |19 |12  |16  |16  |18 |3   |84   |\n",
      "|3  |ALPHA  |18 |14  |18  |18  |18 |16  |102  |\n",
      "|4  |ALPHA  |15 |9   |19  |17  |19 |15  |94   |\n",
      "|5  |ALPHA  |18 |17  |19  |19  |20 |18  |111  |\n",
      "|6  |ALPHA  |17 |16  |18  |10  |15 |9   |85   |\n",
      "|7  |ALPHA  |15 |10  |20  |20  |15 |14  |94   |\n",
      "|8  |ALPHA  |17 |17  |19  |20  |19 |13  |105  |\n",
      "|9  |ALPHA  |10 |18  |NULL|20  |19 |15  |NULL |\n",
      "|10 |ALPHA  |18 |19  |20  |20  |20 |15  |112  |\n",
      "+---+-------+---+----+----+----+---+----+-----+\n",
      "only showing top 10 rows\n",
      "\n"
     ]
    }
   ],
   "source": [
    "df.select(\"SNO\", \"SECTION\", *subject_cols, \"total\").show(10, truncate=False)\n"
   ]
  },
  {
   "cell_type": "code",
   "execution_count": null,
   "id": "9603b0ac-7eb9-4e8b-bd87-c25f369d41a8",
   "metadata": {},
   "outputs": [
    {
     "name": "stdout",
     "output_type": "stream",
     "text": [
      "+---+-------+---+----+---+----+---+----+-----+\n",
      "|SNO|SECTION|DV |M-II|PP |BEEE|FL |FIMS|total|\n",
      "+---+-------+---+----+---+----+---+----+-----+\n",
      "|1  |ALPHA  |12 |0   |17 |9   |19 |15  |72   |\n",
      "|2  |ALPHA  |19 |12  |16 |16  |18 |3   |84   |\n",
      "|3  |ALPHA  |18 |14  |18 |18  |18 |16  |102  |\n",
      "|4  |ALPHA  |15 |9   |19 |17  |19 |15  |94   |\n",
      "|5  |ALPHA  |18 |17  |19 |19  |20 |18  |111  |\n",
      "|6  |ALPHA  |17 |16  |18 |10  |15 |9   |85   |\n",
      "|7  |ALPHA  |15 |10  |20 |20  |15 |14  |94   |\n",
      "|8  |ALPHA  |17 |17  |19 |20  |19 |13  |105  |\n",
      "|9  |ALPHA  |10 |18  |0  |20  |19 |15  |82   |\n",
      "|10 |ALPHA  |18 |19  |20 |20  |20 |15  |112  |\n",
      "+---+-------+---+----+---+----+---+----+-----+\n",
      "only showing top 10 rows\n",
      "\n"
     ]
    }
   ],
   "source": [
    "from pyspark.sql.functions import col, sum as pysum, when\n",
    "\n",
    "subject_cols = [\"DV\", \"M-II\", \"PP\", \"BEEE\", \"FL\", \"FIMS\"]\n",
    "\n",
    "# Step 1: Replace nulls with zero in each subject column\n",
    "for col_name in subject_cols:\n",
    "    df = df.withColumn(col_name, when(col(col_name).isNull(), 0).otherwise(col(col_name)))\n",
    "\\\n",
    "df = df.withColumn(\n",
    "    \"total\",\n",
    "    sum([col(c) for c in subject_cols])\n",
    ")\n",
    "\n",
    "df.select(\"SNO\", \"SECTION\", *subject_cols, \"total\").show(10, truncate=False)\n"
   ]
  },
  {
   "cell_type": "code",
   "execution_count": null,
   "id": "c68d169e-a63f-4b6f-8551-861a7897debf",
   "metadata": {},
   "outputs": [
    {
     "name": "stdout",
     "output_type": "stream",
     "text": [
      "+---+-------+---+----+---+----+---+----+-----+\n",
      "|SNO|SECTION|DV |M-II|PP |BEEE|FL |FIMS|total|\n",
      "+---+-------+---+----+---+----+---+----+-----+\n",
      "|582|SIGMA  |15 |5   |14 |4   |13 |16  |67   |\n",
      "|583|SIGMA  |20 |16  |15 |18  |15 |18  |102  |\n",
      "|584|SIGMA  |19 |20  |18 |17  |20 |15  |109  |\n",
      "|585|SIGMA  |18 |15  |14 |13  |19 |14  |93   |\n",
      "|586|SIGMA  |19 |7   |11 |12  |15 |13  |77   |\n",
      "|587|SIGMA  |20 |17  |20 |15  |18 |18  |108  |\n",
      "|588|SIGMA  |19 |19  |12 |8   |13 |19  |90   |\n",
      "|589|SIGMA  |20 |20  |20 |20  |20 |18  |118  |\n",
      "|590|SIGMA  |20 |17  |20 |18  |20 |18  |113  |\n",
      "|591|SIGMA  |20 |15  |17 |13  |20 |17  |102  |\n",
      "|592|SIGMA  |17 |20  |16 |16  |20 |19  |108  |\n",
      "|593|SIGMA  |20 |18  |19 |14  |19 |16  |106  |\n",
      "|594|SIGMA  |15 |6   |9  |3   |18 |15  |66   |\n",
      "|595|SIGMA  |20 |17  |18 |20  |19 |20  |114  |\n",
      "|596|SIGMA  |17 |14  |16 |18  |20 |18  |103  |\n",
      "|597|SIGMA  |20 |20  |20 |20  |20 |20  |120  |\n",
      "|598|SIGMA  |20 |20  |20 |19  |19 |18  |116  |\n",
      "|599|SIGMA  |20 |20  |17 |17  |19 |18  |111  |\n",
      "|600|SIGMA  |14 |12  |11 |9   |18 |17  |81   |\n",
      "|601|SIGMA  |20 |19  |20 |18  |18 |19  |114  |\n",
      "+---+-------+---+----+---+----+---+----+-----+\n",
      "\n"
     ]
    }
   ],
   "source": [
    "N = 20\n",
    "row_count = df.count()\n",
    "\n",
    "df.orderBy(\"SNO\", ascending=False).limit(N).orderBy(\"SNO\").show(truncate=False)\n"
   ]
  },
  {
   "cell_type": "code",
   "execution_count": null,
   "id": "17c3a184-6b03-4c45-a7da-81583f10009d",
   "metadata": {},
   "outputs": [
    {
     "name": "stdout",
     "output_type": "stream",
     "text": [
      "+---+-------+---+----+---+----+---+----+-----+------------------------------------+\n",
      "|SNO|SECTION|DV |M-II|PP |BEEE|FL |FIMS|total|zero_subjects                       |\n",
      "+---+-------+---+----+---+----+---+----+-----+------------------------------------+\n",
      "|100|BETA   |9  |11  |9  |10  |13 |12  |64   |[NULL, NULL, NULL, NULL, NULL, NULL]|\n",
      "|101|BETA   |10 |10  |10 |4   |15 |12  |61   |[NULL, NULL, NULL, NULL, NULL, NULL]|\n",
      "|102|BETA   |13 |12  |18 |4   |18 |11  |76   |[NULL, NULL, NULL, NULL, NULL, NULL]|\n",
      "|103|BETA   |10 |12  |17 |9   |0  |16  |64   |[NULL, NULL, NULL, NULL, FL, NULL]  |\n",
      "|104|BETA   |11 |18  |20 |15  |20 |18  |102  |[NULL, NULL, NULL, NULL, NULL, NULL]|\n",
      "|105|BETA   |17 |20  |19 |12  |20 |18  |106  |[NULL, NULL, NULL, NULL, NULL, NULL]|\n",
      "|106|BETA   |12 |11  |18 |11  |15 |17  |84   |[NULL, NULL, NULL, NULL, NULL, NULL]|\n",
      "|107|BETA   |9  |13  |17 |6   |18 |15  |78   |[NULL, NULL, NULL, NULL, NULL, NULL]|\n",
      "|108|BETA   |11 |5   |19 |9   |18 |9   |71   |[NULL, NULL, NULL, NULL, NULL, NULL]|\n",
      "|109|BETA   |10 |14  |5  |3   |15 |8   |55   |[NULL, NULL, NULL, NULL, NULL, NULL]|\n",
      "|110|BETA   |13 |12  |19 |4   |18 |14  |80   |[NULL, NULL, NULL, NULL, NULL, NULL]|\n",
      "|111|BETA   |8  |11  |14 |3   |18 |10  |64   |[NULL, NULL, NULL, NULL, NULL, NULL]|\n",
      "|112|BETA   |10 |17  |20 |4   |20 |13  |84   |[NULL, NULL, NULL, NULL, NULL, NULL]|\n",
      "|113|BETA   |16 |20  |18 |20  |20 |17  |111  |[NULL, NULL, NULL, NULL, NULL, NULL]|\n",
      "|114|BETA   |15 |17  |16 |10  |15 |13  |86   |[NULL, NULL, NULL, NULL, NULL, NULL]|\n",
      "|115|BETA   |11 |14  |16 |4   |18 |12  |75   |[NULL, NULL, NULL, NULL, NULL, NULL]|\n",
      "|116|BETA   |20 |20  |20 |20  |20 |17  |117  |[NULL, NULL, NULL, NULL, NULL, NULL]|\n",
      "|117|BETA   |13 |20  |14 |14  |18 |16  |95   |[NULL, NULL, NULL, NULL, NULL, NULL]|\n",
      "|118|BETA   |12 |19  |17 |10  |15 |9   |82   |[NULL, NULL, NULL, NULL, NULL, NULL]|\n",
      "|119|BETA   |9  |9   |15 |4   |15 |17  |69   |[NULL, NULL, NULL, NULL, NULL, NULL]|\n",
      "+---+-------+---+----+---+----+---+----+-----+------------------------------------+\n",
      "only showing top 20 rows\n",
      "\n"
     ]
    }
   ],
   "source": [
    "\n",
    "df_filtered = df.filter((col(\"SNO\") >= 100) & (col(\"SNO\") <= 200))\n",
    "df_filtered.show(truncate=False)\n"
   ]
  },
  {
   "cell_type": "code",
   "execution_count": null,
   "id": "fcb962f5-c5fb-4564-90dc-754d335cf5f1",
   "metadata": {},
   "outputs": [
    {
     "name": "stdout",
     "output_type": "stream",
     "text": [
      "+---+-------+-----+\n",
      "|SNO|Subject|total|\n",
      "+---+-------+-----+\n",
      "|1  |M-II   |72   |\n",
      "|9  |PP     |82   |\n",
      "|73 |M-II   |61   |\n",
      "|83 |M-II   |4    |\n",
      "|83 |BEEE   |4    |\n",
      "|83 |FL     |4    |\n",
      "|83 |FIMS   |4    |\n",
      "|89 |PP     |39   |\n",
      "|103|FL     |64   |\n",
      "|140|M-II   |56   |\n",
      "|145|M-II   |69   |\n",
      "|157|PP     |55   |\n",
      "|157|BEEE   |55   |\n",
      "|161|M-II   |41   |\n",
      "|170|M-II   |42   |\n",
      "|177|M-II   |59   |\n",
      "|185|M-II   |40   |\n",
      "|188|M-II   |46   |\n",
      "|191|M-II   |22   |\n",
      "|193|M-II   |49   |\n",
      "+---+-------+-----+\n",
      "only showing top 20 rows\n",
      "\n"
     ]
    }
   ],
   "source": [
    "from pyspark.sql.functions import col, array, when, explode\n",
    "\n",
    "subject_cols = [\"DV\", \"M-II\", \"PP\", \"BEEE\", \"FL\", \"FIMS\"]\n",
    "\n",
    "# Array where subject names where the score is zero\n",
    "zero_subjects = [when(col(c) == 0, c).otherwise(None) for c in subject_cols]\n",
    "df = df.withColumn(\"zero_subjects\", array(*zero_subjects))\n",
    "\n",
    "#array so each row lists only one zero subject\n",
    "zero_rows = df.select(\"SNO\", explode(\"zero_subjects\").alias(\"Subject\"), \"total\")\n",
    "result = zero_rows.filter(col(\"Subject\").isNotNull())\n",
    "\n",
    "result.show(truncate=False)\n"
   ]
  },
  {
   "cell_type": "code",
   "execution_count": 57,
   "id": "f29b4af7-9083-45c3-a40d-62d6f77a485e",
   "metadata": {},
   "outputs": [
    {
     "name": "stdout",
     "output_type": "stream",
     "text": [
      "+-------+-----+\n",
      "|SECTION|count|\n",
      "+-------+-----+\n",
      "|   ZETA|   90|\n",
      "|   BETA|   90|\n",
      "|  OMEGA|   90|\n",
      "|EPSILON|   88|\n",
      "|Unknown|   27|\n",
      "|  SIGMA|   63|\n",
      "|  ALPHA|   90|\n",
      "|  GAMMA|   90|\n",
      "|  DELTA|   90|\n",
      "+-------+-----+\n",
      "\n"
     ]
    }
   ],
   "source": [
    "df.groupBy(\"SECTION\").count().show()\n"
   ]
  },
  {
   "cell_type": "code",
   "execution_count": 61,
   "id": "a39f89f7-abba-4790-ba24-003a25919e74",
   "metadata": {},
   "outputs": [
    {
     "name": "stdout",
     "output_type": "stream",
     "text": [
      "+-------+-----+\n",
      "|SECTION|count|\n",
      "+-------+-----+\n",
      "|   ZETA|   90|\n",
      "|   BETA|   90|\n",
      "|  OMEGA|   90|\n",
      "|EPSILON|   88|\n",
      "|Unknown|   27|\n",
      "|  SIGMA|   63|\n",
      "|  ALPHA|   90|\n",
      "|  GAMMA|   90|\n",
      "|  DELTA|   90|\n",
      "+-------+-----+\n",
      "\n"
     ]
    }
   ],
   "source": [
    "df.groupBy(\"SECTION\").count().show()\n"
   ]
  },
  {
   "cell_type": "code",
   "execution_count": null,
   "id": "b6a17f26-54ef-4621-8e09-e5b69baec8a4",
   "metadata": {},
   "outputs": [
    {
     "name": "stdout",
     "output_type": "stream",
     "text": [
      "+-------+-----+\n",
      "|SECTION|count|\n",
      "+-------+-----+\n",
      "|   ZETA|   90|\n",
      "|   BETA|   90|\n",
      "|  OMEGA|   90|\n",
      "|EPSILON|   88|\n",
      "|  ALPHA|   90|\n",
      "|  GAMMA|   90|\n",
      "|  DELTA|   90|\n",
      "|  SIGMA|   90|\n",
      "+-------+-----+\n",
      "\n"
     ]
    }
   ],
   "source": [
    "from pyspark.sql import Row\n",
    "from pyspark.sql.functions import col\n",
    "\n",
    "counts_df = df.groupBy(\"SECTION\").count()\n",
    "counts_dict = {row['SECTION']: row['count'] for row in counts_df.collect() if row['SECTION'] is not None}\n",
    "\n",
    "unknown_count = counts_dict.get(\"Unknown\", 0)\n",
    "sigma_count = counts_dict.get(\"SIGMA\", 0)\n",
    "\n",
    "new_sigma_count = sigma_count + unknown_count\n",
    "df_filtered = df.filter(col(\"SECTION\") != \"Unknown\")\n",
    "\n",
    "new_sigma_row = Row(SECTION=\"SIGMA\", count=new_sigma_count)\n",
    "\n",
    "filtered_counts_df = df_filtered.groupBy(\"SECTION\").count()\n",
    "\n",
    "filtered_counts_no_sigma = filtered_counts_df.filter(col(\"SECTION\") != \"SIGMA\")\n",
    "\n",
    "updated_counts_df = filtered_counts_no_sigma.union(df.sparkSession.createDataFrame([new_sigma_row]))\n",
    "\n",
    "updated_counts_df.show()\n"
   ]
  },
  {
   "cell_type": "code",
   "execution_count": 67,
   "id": "2039cb5a-2dfe-47dd-99a2-4afe9ffa1b06",
   "metadata": {},
   "outputs": [
    {
     "name": "stdout",
     "output_type": "stream",
     "text": [
      "+---+-----+\n",
      "| DV|count|\n",
      "+---+-----+\n",
      "| 12|   41|\n",
      "|  1|    3|\n",
      "| 13|   30|\n",
      "| 16|   74|\n",
      "|  6|   12|\n",
      "|  3|    1|\n",
      "| 20|  103|\n",
      "|  5|   11|\n",
      "| 19|   60|\n",
      "| 15|   63|\n",
      "| 17|   79|\n",
      "|  9|   20|\n",
      "|  4|    4|\n",
      "|  8|   11|\n",
      "|  7|    8|\n",
      "| 10|   26|\n",
      "| 11|   43|\n",
      "| 14|   41|\n",
      "|  2|    6|\n",
      "|  0|   13|\n",
      "+---+-----+\n",
      "only showing top 20 rows\n",
      "\n"
     ]
    }
   ],
   "source": [
    "df.groupBy(\"DV\").count().show()"
   ]
  },
  {
   "cell_type": "code",
   "execution_count": 69,
   "id": "d70edc69-5dfa-44b6-bf4e-0864a05cfba6",
   "metadata": {},
   "outputs": [
    {
     "name": "stdout",
     "output_type": "stream",
     "text": [
      "+---+-------+---+----+---+----+---+----+-----+--------------------+-----+\n",
      "|SNO|SECTION| DV|M-II| PP|BEEE| FL|FIMS|total|       zero_subjects|Grade|\n",
      "+---+-------+---+----+---+----+---+----+-----+--------------------+-----+\n",
      "|  1|  ALPHA| 12|   0| 17|   9| 19|  15|   72|[NULL, M-II, NULL...|    B|\n",
      "|  2|  ALPHA| 19|  12| 16|  16| 18|   3|   84|[NULL, NULL, NULL...|    A|\n",
      "|  3|  ALPHA| 18|  14| 18|  18| 18|  16|  102|[NULL, NULL, NULL...|    A|\n",
      "|  4|  ALPHA| 15|   9| 19|  17| 19|  15|   94|[NULL, NULL, NULL...|    A|\n",
      "|  5|  ALPHA| 18|  17| 19|  19| 20|  18|  111|[NULL, NULL, NULL...|    A|\n",
      "|  6|  ALPHA| 17|  16| 18|  10| 15|   9|   85|[NULL, NULL, NULL...|    A|\n",
      "|  7|  ALPHA| 15|  10| 20|  20| 15|  14|   94|[NULL, NULL, NULL...|    A|\n",
      "|  8|  ALPHA| 17|  17| 19|  20| 19|  13|  105|[NULL, NULL, NULL...|    A|\n",
      "|  9|  ALPHA| 10|  18|  0|  20| 19|  15|   82|[NULL, NULL, PP, ...|    A|\n",
      "| 10|  ALPHA| 18|  19| 20|  20| 20|  15|  112|[NULL, NULL, NULL...|    A|\n",
      "| 11|  ALPHA| 17|  18| 20|  18| 20|  18|  111|[NULL, NULL, NULL...|    A|\n",
      "| 12|  ALPHA| 20|  20| 20|  20| 19|  16|  115|[NULL, NULL, NULL...|    A|\n",
      "| 13|  ALPHA| 16|  18| 11|  15| 19|  15|   94|[NULL, NULL, NULL...|    A|\n",
      "| 14|  ALPHA| 17|  17| 18|  11| 15|   9|   87|[NULL, NULL, NULL...|    A|\n",
      "| 15|  ALPHA| 19|  20| 20|  20| 18|  12|  109|[NULL, NULL, NULL...|    A|\n",
      "| 16|  ALPHA| 13|  18| 17|  19| 16|   9|   92|[NULL, NULL, NULL...|    A|\n",
      "| 17|  ALPHA| 15|  17| 18|  17| 17|  13|   97|[NULL, NULL, NULL...|    A|\n",
      "| 18|  ALPHA| 11|   8| 18|  15| 19|  15|   86|[NULL, NULL, NULL...|    A|\n",
      "| 19|  ALPHA| 14|  12| 16|  16| 20|  14|   92|[NULL, NULL, NULL...|    A|\n",
      "| 20|  ALPHA| 19|  17| 20|  20| 20|  18|  114|[NULL, NULL, NULL...|    A|\n",
      "+---+-------+---+----+---+----+---+----+-----+--------------------+-----+\n",
      "only showing top 20 rows\n",
      "\n"
     ]
    }
   ],
   "source": [
    "df = df.withColumn(\n",
    "\"Grade\",\n",
    "when(df.total >= 80, \"A\")\n",
    ".when(df.total >= 60, \"B\")\n",
    ".when(df.total >= 40, \"C\")\n",
    ".otherwise(\"F\")\n",
    ")\n",
    "df.show()"
   ]
  },
  {
   "cell_type": "code",
   "execution_count": 73,
   "id": "a6517336-7475-4b4b-9a4a-8acbad5a3bcb",
   "metadata": {},
   "outputs": [],
   "source": [
    "df = df.withColumnRenamed(\"S.NO\", \"S_NO\")\n"
   ]
  },
  {
   "cell_type": "code",
   "execution_count": 79,
   "id": "cc29a7a4-34ce-497d-9945-50e1d538886e",
   "metadata": {},
   "outputs": [],
   "source": [
    "df = df.drop(\"TotalMarks120\", \"TotalMarks100\")\n"
   ]
  },
  {
   "cell_type": "code",
   "execution_count": 81,
   "id": "5d44178e-a59c-4751-a32c-41aa437794c9",
   "metadata": {},
   "outputs": [
    {
     "name": "stdout",
     "output_type": "stream",
     "text": [
      "+---+-------+---+----+---+----+---+----+-----+--------------------+-----+\n",
      "|SNO|SECTION| DV|M-II| PP|BEEE| FL|FIMS|total|       zero_subjects|Grade|\n",
      "+---+-------+---+----+---+----+---+----+-----+--------------------+-----+\n",
      "|  1|  ALPHA| 12|   0| 17|   9| 19|  15|   72|[NULL, M-II, NULL...|    B|\n",
      "|  2|  ALPHA| 19|  12| 16|  16| 18|   3|   84|[NULL, NULL, NULL...|    A|\n",
      "|  3|  ALPHA| 18|  14| 18|  18| 18|  16|  102|[NULL, NULL, NULL...|    A|\n",
      "|  4|  ALPHA| 15|   9| 19|  17| 19|  15|   94|[NULL, NULL, NULL...|    A|\n",
      "|  5|  ALPHA| 18|  17| 19|  19| 20|  18|  111|[NULL, NULL, NULL...|    A|\n",
      "|  6|  ALPHA| 17|  16| 18|  10| 15|   9|   85|[NULL, NULL, NULL...|    A|\n",
      "|  7|  ALPHA| 15|  10| 20|  20| 15|  14|   94|[NULL, NULL, NULL...|    A|\n",
      "|  8|  ALPHA| 17|  17| 19|  20| 19|  13|  105|[NULL, NULL, NULL...|    A|\n",
      "|  9|  ALPHA| 10|  18|  0|  20| 19|  15|   82|[NULL, NULL, PP, ...|    A|\n",
      "| 10|  ALPHA| 18|  19| 20|  20| 20|  15|  112|[NULL, NULL, NULL...|    A|\n",
      "| 11|  ALPHA| 17|  18| 20|  18| 20|  18|  111|[NULL, NULL, NULL...|    A|\n",
      "| 12|  ALPHA| 20|  20| 20|  20| 19|  16|  115|[NULL, NULL, NULL...|    A|\n",
      "| 13|  ALPHA| 16|  18| 11|  15| 19|  15|   94|[NULL, NULL, NULL...|    A|\n",
      "| 14|  ALPHA| 17|  17| 18|  11| 15|   9|   87|[NULL, NULL, NULL...|    A|\n",
      "| 15|  ALPHA| 19|  20| 20|  20| 18|  12|  109|[NULL, NULL, NULL...|    A|\n",
      "| 16|  ALPHA| 13|  18| 17|  19| 16|   9|   92|[NULL, NULL, NULL...|    A|\n",
      "| 17|  ALPHA| 15|  17| 18|  17| 17|  13|   97|[NULL, NULL, NULL...|    A|\n",
      "| 18|  ALPHA| 11|   8| 18|  15| 19|  15|   86|[NULL, NULL, NULL...|    A|\n",
      "| 19|  ALPHA| 14|  12| 16|  16| 20|  14|   92|[NULL, NULL, NULL...|    A|\n",
      "| 20|  ALPHA| 19|  17| 20|  20| 20|  18|  114|[NULL, NULL, NULL...|    A|\n",
      "+---+-------+---+----+---+----+---+----+-----+--------------------+-----+\n",
      "only showing top 20 rows\n",
      "\n"
     ]
    }
   ],
   "source": [
    "df = df.withColumn(\n",
    "\"Grade\",\n",
    "when(df.total >= 80, \"A\")\n",
    ".when(df.total >= 60, \"B\")\n",
    ".when(df.total >= 40, \"C\")\n",
    ".otherwise(\"F\")\n",
    ")\n",
    "df.show()"
   ]
  },
  {
   "cell_type": "code",
   "execution_count": 83,
   "id": "7099d818-7c22-4c4c-a668-2590cd673264",
   "metadata": {},
   "outputs": [],
   "source": [
    "df = df.drop(\"Grade\")\n"
   ]
  },
  {
   "cell_type": "code",
   "execution_count": 85,
   "id": "edaf59b2-008a-4a61-b88f-5d41ad5241ea",
   "metadata": {},
   "outputs": [
    {
     "name": "stdout",
     "output_type": "stream",
     "text": [
      "+---+-------+---+----+---+----+---+----+-----+--------------------+\n",
      "|SNO|SECTION| DV|M-II| PP|BEEE| FL|FIMS|total|       zero_subjects|\n",
      "+---+-------+---+----+---+----+---+----+-----+--------------------+\n",
      "|  1|  ALPHA| 12|   0| 17|   9| 19|  15|   72|[NULL, M-II, NULL...|\n",
      "|  2|  ALPHA| 19|  12| 16|  16| 18|   3|   84|[NULL, NULL, NULL...|\n",
      "|  3|  ALPHA| 18|  14| 18|  18| 18|  16|  102|[NULL, NULL, NULL...|\n",
      "|  4|  ALPHA| 15|   9| 19|  17| 19|  15|   94|[NULL, NULL, NULL...|\n",
      "|  5|  ALPHA| 18|  17| 19|  19| 20|  18|  111|[NULL, NULL, NULL...|\n",
      "|  6|  ALPHA| 17|  16| 18|  10| 15|   9|   85|[NULL, NULL, NULL...|\n",
      "|  7|  ALPHA| 15|  10| 20|  20| 15|  14|   94|[NULL, NULL, NULL...|\n",
      "|  8|  ALPHA| 17|  17| 19|  20| 19|  13|  105|[NULL, NULL, NULL...|\n",
      "|  9|  ALPHA| 10|  18|  0|  20| 19|  15|   82|[NULL, NULL, PP, ...|\n",
      "| 10|  ALPHA| 18|  19| 20|  20| 20|  15|  112|[NULL, NULL, NULL...|\n",
      "| 11|  ALPHA| 17|  18| 20|  18| 20|  18|  111|[NULL, NULL, NULL...|\n",
      "| 12|  ALPHA| 20|  20| 20|  20| 19|  16|  115|[NULL, NULL, NULL...|\n",
      "| 13|  ALPHA| 16|  18| 11|  15| 19|  15|   94|[NULL, NULL, NULL...|\n",
      "| 14|  ALPHA| 17|  17| 18|  11| 15|   9|   87|[NULL, NULL, NULL...|\n",
      "| 15|  ALPHA| 19|  20| 20|  20| 18|  12|  109|[NULL, NULL, NULL...|\n",
      "| 16|  ALPHA| 13|  18| 17|  19| 16|   9|   92|[NULL, NULL, NULL...|\n",
      "| 17|  ALPHA| 15|  17| 18|  17| 17|  13|   97|[NULL, NULL, NULL...|\n",
      "| 18|  ALPHA| 11|   8| 18|  15| 19|  15|   86|[NULL, NULL, NULL...|\n",
      "| 19|  ALPHA| 14|  12| 16|  16| 20|  14|   92|[NULL, NULL, NULL...|\n",
      "| 20|  ALPHA| 19|  17| 20|  20| 20|  18|  114|[NULL, NULL, NULL...|\n",
      "+---+-------+---+----+---+----+---+----+-----+--------------------+\n",
      "only showing top 20 rows\n",
      "\n"
     ]
    }
   ],
   "source": [
    "df.show()"
   ]
  },
  {
   "cell_type": "code",
   "execution_count": 87,
   "id": "47adeb44-38a4-404e-a07c-f62d85730cc7",
   "metadata": {},
   "outputs": [
    {
     "name": "stdout",
     "output_type": "stream",
     "text": [
      "+---+-------+---+----+---+----+---+----+-----+--------------------+-----+\n",
      "|SNO|SECTION| DV|M-II| PP|BEEE| FL|FIMS|total|       zero_subjects|Grade|\n",
      "+---+-------+---+----+---+----+---+----+-----+--------------------+-----+\n",
      "|  1|  ALPHA| 12|   0| 17|   9| 19|  15|   72|[NULL, M-II, NULL...|    B|\n",
      "|  2|  ALPHA| 19|  12| 16|  16| 18|   3|   84|[NULL, NULL, NULL...|    B|\n",
      "|  3|  ALPHA| 18|  14| 18|  18| 18|  16|  102|[NULL, NULL, NULL...|    A|\n",
      "|  4|  ALPHA| 15|   9| 19|  17| 19|  15|   94|[NULL, NULL, NULL...|    B|\n",
      "|  5|  ALPHA| 18|  17| 19|  19| 20|  18|  111|[NULL, NULL, NULL...|    A|\n",
      "|  6|  ALPHA| 17|  16| 18|  10| 15|   9|   85|[NULL, NULL, NULL...|    B|\n",
      "|  7|  ALPHA| 15|  10| 20|  20| 15|  14|   94|[NULL, NULL, NULL...|    B|\n",
      "|  8|  ALPHA| 17|  17| 19|  20| 19|  13|  105|[NULL, NULL, NULL...|    A|\n",
      "|  9|  ALPHA| 10|  18|  0|  20| 19|  15|   82|[NULL, NULL, PP, ...|    B|\n",
      "| 10|  ALPHA| 18|  19| 20|  20| 20|  15|  112|[NULL, NULL, NULL...|    A|\n",
      "| 11|  ALPHA| 17|  18| 20|  18| 20|  18|  111|[NULL, NULL, NULL...|    A|\n",
      "| 12|  ALPHA| 20|  20| 20|  20| 19|  16|  115|[NULL, NULL, NULL...|    A|\n",
      "| 13|  ALPHA| 16|  18| 11|  15| 19|  15|   94|[NULL, NULL, NULL...|    B|\n",
      "| 14|  ALPHA| 17|  17| 18|  11| 15|   9|   87|[NULL, NULL, NULL...|    B|\n",
      "| 15|  ALPHA| 19|  20| 20|  20| 18|  12|  109|[NULL, NULL, NULL...|    A|\n",
      "| 16|  ALPHA| 13|  18| 17|  19| 16|   9|   92|[NULL, NULL, NULL...|    B|\n",
      "| 17|  ALPHA| 15|  17| 18|  17| 17|  13|   97|[NULL, NULL, NULL...|    A|\n",
      "| 18|  ALPHA| 11|   8| 18|  15| 19|  15|   86|[NULL, NULL, NULL...|    B|\n",
      "| 19|  ALPHA| 14|  12| 16|  16| 20|  14|   92|[NULL, NULL, NULL...|    B|\n",
      "| 20|  ALPHA| 19|  17| 20|  20| 20|  18|  114|[NULL, NULL, NULL...|    A|\n",
      "+---+-------+---+----+---+----+---+----+-----+--------------------+-----+\n",
      "only showing top 20 rows\n",
      "\n"
     ]
    }
   ],
   "source": [
    "from pyspark.sql.functions import when, col\n",
    "\n",
    "df = df.withColumn(\n",
    "    \"Grade\",\n",
    "    when(col(\"total\") >= 96, \"A\")  # 80% of 120 = 96\n",
    "    .when(col(\"total\") >= 72, \"B\")  # 60% of 120 = 72\n",
    "    .when(col(\"total\") >= 48, \"C\")  # 40% of 120 = 48\n",
    "    .otherwise(\"F\")\n",
    ")\n",
    "\n",
    "df.show()\n"
   ]
  },
  {
   "cell_type": "code",
   "execution_count": null,
   "id": "11544700-8621-4f27-9d5d-1f6878259b7a",
   "metadata": {},
   "outputs": [],
   "source": []
  }
 ],
 "metadata": {
  "kernelspec": {
   "display_name": "Python 3.10 (Spark)",
   "language": "python",
   "name": "python310"
  },
  "language_info": {
   "codemirror_mode": {
    "name": "ipython",
    "version": 3
   },
   "file_extension": ".py",
   "mimetype": "text/x-python",
   "name": "python",
   "nbconvert_exporter": "python",
   "pygments_lexer": "ipython3",
   "version": "3.10.0"
  }
 },
 "nbformat": 4,
 "nbformat_minor": 5
}
