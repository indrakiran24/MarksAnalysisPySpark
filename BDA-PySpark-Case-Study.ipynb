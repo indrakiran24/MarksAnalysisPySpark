{
 "cells": [
  {
   "cell_type": "code",
   "execution_count": 76,
   "id": "d54d98d4-58f6-4812-9825-4d3edd8821c9",
   "metadata": {},
   "outputs": [],
   "source": [
    "import findspark\n",
    "findspark.init()\n",
    "from pyspark.sql import SparkSession\n",
    "spark = SparkSession.builder.appName(\"Test\").getOrCreate()"
   ]
  },
  {
   "cell_type": "code",
   "execution_count": 78,
   "id": "f9bd4c58-0006-4c9c-a1dc-88c7839d08a1",
   "metadata": {},
   "outputs": [
    {
     "name": "stdout",
     "output_type": "stream",
     "text": [
      "+----+-------+---+----+---+----+---+----+\n",
      "|S.NO|SECTION| DV|M-II| PP|BEEE| FL|FIMS|\n",
      "+----+-------+---+----+---+----+---+----+\n",
      "|   1|  ALPHA| 12|   0| 17|   9| 19|  15|\n",
      "|   2|  ALPHA| 19|  12| 16|  16| 18|   3|\n",
      "|   3|  ALPHA| 18|  14| 18|  18| 18|  16|\n",
      "|   4|  ALPHA| 15|   9| 19|  17| 19|  15|\n",
      "|   5|  ALPHA| 18|  17| 19|  19| 20|  18|\n",
      "|   6|  ALPHA| 17|  16| 18|  10| 15|   9|\n",
      "|   7|  ALPHA| 15|  10| 20|  20| 15|  14|\n",
      "|   8|  ALPHA| 17|  17| 19|  20| 19|  13|\n",
      "|   9|  ALPHA| 10|  18|  A|  20| 19|  15|\n",
      "|  10|  ALPHA| 18|  19| 20|  20| 20|  15|\n",
      "|  11|  ALPHA| 17|  18| 20|  18| 20|  18|\n",
      "|  12|  ALPHA| 20|  20| 20|  20| 19|  16|\n",
      "|  13|  ALPHA| 16|  18| 11|  15| 19|  15|\n",
      "|  14|  ALPHA| 17|  17| 18|  11| 15|   9|\n",
      "|  15|  ALPHA| 19|  20| 20|  20| 18|  12|\n",
      "|  16|  ALPHA| 13|  18| 17|  19| 16|   9|\n",
      "|  17|  ALPHA| 15|  17| 18|  17| 17|  13|\n",
      "|  18|  ALPHA| 11|   8| 18|  15| 19|  15|\n",
      "|  19|  ALPHA| 14|  12| 16|  16| 20|  14|\n",
      "|  20|  ALPHA| 19|  17| 20|  20| 20|  18|\n",
      "+----+-------+---+----+---+----+---+----+\n",
      "only showing top 20 rows\n",
      "\n",
      "root\n",
      " |-- S.NO: string (nullable = true)\n",
      " |-- SECTION: string (nullable = true)\n",
      " |-- DV: string (nullable = true)\n",
      " |-- M-II: string (nullable = true)\n",
      " |-- PP: string (nullable = true)\n",
      " |-- BEEE: string (nullable = true)\n",
      " |-- FL: string (nullable = true)\n",
      " |-- FIMS: string (nullable = true)\n",
      "\n"
     ]
    }
   ],
   "source": [
    "df = spark.read.csv(\"C:/Users/intur/Desktop/INDRAKIRAN/MRU/4-1/BDA/MIDMARKS-Spark.csv\", header=True)\n",
    "df.show()\n",
    "df.printSchema()"
   ]
  },
  {
   "cell_type": "markdown",
   "id": "5df9154e-014d-4576-8820-4e561992ec23",
   "metadata": {},
   "source": [
    "#### HANDLING NULL VALUES"
   ]
  },
  {
   "cell_type": "code",
   "execution_count": 79,
   "id": "f78df7ea-48a7-452d-ae74-2294e49a357f",
   "metadata": {},
   "outputs": [],
   "source": [
    "subject_columns = [\"DV\", \"M-II\", \"PP\", \"BEEE\", \"FL\", \"FIMS\"]"
   ]
  },
  {
   "cell_type": "code",
   "execution_count": 81,
   "id": "f497817c-1216-4ede-b66e-03aee56fbb23",
   "metadata": {},
   "outputs": [],
   "source": [
    "from pyspark.sql.functions import col, when\n",
    "for subject in subject_columns:\n",
    "    df = df.withColumn(\n",
    "        subject,\n",
    "        when(col(subject).isin([\"A\", \"AB\", \"MP\"]) | col(subject).isNull(), 0)\n",
    "        .otherwise(col(subject).cast(\"int\"))\n",
    "    )\n"
   ]
  },
  {
   "cell_type": "code",
   "execution_count": 83,
   "id": "9f7838ea-9783-4415-aeb3-f293afa52b35",
   "metadata": {},
   "outputs": [
    {
     "name": "stdout",
     "output_type": "stream",
     "text": [
      "root\n",
      " |-- S.NO: string (nullable = true)\n",
      " |-- SECTION: string (nullable = true)\n",
      " |-- DV: integer (nullable = true)\n",
      " |-- M-II: integer (nullable = true)\n",
      " |-- PP: integer (nullable = true)\n",
      " |-- BEEE: integer (nullable = true)\n",
      " |-- FL: integer (nullable = true)\n",
      " |-- FIMS: integer (nullable = true)\n",
      "\n",
      "+----+-------+---+----+---+----+---+----+\n",
      "|S.NO|SECTION| DV|M-II| PP|BEEE| FL|FIMS|\n",
      "+----+-------+---+----+---+----+---+----+\n",
      "|   1|  ALPHA| 12|   0| 17|   9| 19|  15|\n",
      "|   2|  ALPHA| 19|  12| 16|  16| 18|   3|\n",
      "|   3|  ALPHA| 18|  14| 18|  18| 18|  16|\n",
      "|   4|  ALPHA| 15|   9| 19|  17| 19|  15|\n",
      "|   5|  ALPHA| 18|  17| 19|  19| 20|  18|\n",
      "|   6|  ALPHA| 17|  16| 18|  10| 15|   9|\n",
      "|   7|  ALPHA| 15|  10| 20|  20| 15|  14|\n",
      "|   8|  ALPHA| 17|  17| 19|  20| 19|  13|\n",
      "|   9|  ALPHA| 10|  18|  0|  20| 19|  15|\n",
      "|  10|  ALPHA| 18|  19| 20|  20| 20|  15|\n",
      "|  11|  ALPHA| 17|  18| 20|  18| 20|  18|\n",
      "|  12|  ALPHA| 20|  20| 20|  20| 19|  16|\n",
      "|  13|  ALPHA| 16|  18| 11|  15| 19|  15|\n",
      "|  14|  ALPHA| 17|  17| 18|  11| 15|   9|\n",
      "|  15|  ALPHA| 19|  20| 20|  20| 18|  12|\n",
      "|  16|  ALPHA| 13|  18| 17|  19| 16|   9|\n",
      "|  17|  ALPHA| 15|  17| 18|  17| 17|  13|\n",
      "|  18|  ALPHA| 11|   8| 18|  15| 19|  15|\n",
      "|  19|  ALPHA| 14|  12| 16|  16| 20|  14|\n",
      "|  20|  ALPHA| 19|  17| 20|  20| 20|  18|\n",
      "+----+-------+---+----+---+----+---+----+\n",
      "only showing top 20 rows\n",
      "\n"
     ]
    }
   ],
   "source": [
    "df.printSchema()\n",
    "df.show()"
   ]
  },
  {
   "cell_type": "code",
   "execution_count": 84,
   "id": "9220e44a-262f-405a-8220-f71c73945dc1",
   "metadata": {},
   "outputs": [
    {
     "name": "stdout",
     "output_type": "stream",
     "text": [
      "+-------+-----+\n",
      "|SECTION|count|\n",
      "+-------+-----+\n",
      "|   ZETA|   90|\n",
      "|   NULL|   27|\n",
      "|   BETA|   90|\n",
      "|  OMEGA|   90|\n",
      "|EPSILON|   88|\n",
      "|  SIGMA|   63|\n",
      "|  ALPHA|   90|\n",
      "|  GAMMA|   90|\n",
      "|  DELTA|   90|\n",
      "+-------+-----+\n",
      "\n"
     ]
    }
   ],
   "source": [
    "df.groupBy(\"SECTION\").count().show()"
   ]
  },
  {
   "cell_type": "code",
   "execution_count": 85,
   "id": "89670719-9370-4e26-aa7f-04bd9be7a3e6",
   "metadata": {},
   "outputs": [],
   "source": [
    "df= df.na.fill({\"SECTION\": \"ZETA\"})"
   ]
  },
  {
   "cell_type": "code",
   "execution_count": 86,
   "id": "280e0590-b41e-4c42-80ed-62689d0dd87c",
   "metadata": {},
   "outputs": [
    {
     "name": "stdout",
     "output_type": "stream",
     "text": [
      "+-------+-----+\n",
      "|SECTION|count|\n",
      "+-------+-----+\n",
      "|   ZETA|  117|\n",
      "|   BETA|   90|\n",
      "|  OMEGA|   90|\n",
      "|EPSILON|   88|\n",
      "|  SIGMA|   63|\n",
      "|  ALPHA|   90|\n",
      "|  GAMMA|   90|\n",
      "|  DELTA|   90|\n",
      "+-------+-----+\n",
      "\n"
     ]
    }
   ],
   "source": [
    "df.groupBy(\"SECTION\").count().show()"
   ]
  },
  {
   "cell_type": "code",
   "execution_count": 87,
   "id": "1825cf0a-0b27-4c32-bf47-01e4375c987f",
   "metadata": {},
   "outputs": [],
   "source": [
    "from pyspark.sql.functions import when, col\n",
    "df = df.withColumn(\n",
    "\"SECTION\",\n",
    "when(col(\"SECTION\") == \"GAMA\", \"GAMMA\")\n",
    ".when(col(\"SECTION\") == \"SGMA\", \"SIGMA\")\n",
    ".otherwise(col(\"SECTION\"))\n",
    ")"
   ]
  },
  {
   "cell_type": "code",
   "execution_count": 88,
   "id": "6e4c3708-4495-4b4f-af59-626daaa72bf4",
   "metadata": {},
   "outputs": [
    {
     "name": "stdout",
     "output_type": "stream",
     "text": [
      "+-------+-----+\n",
      "|SECTION|count|\n",
      "+-------+-----+\n",
      "|   ZETA|   60|\n",
      "|   BETA|   60|\n",
      "|  OMEGA|   60|\n",
      "|EPSILON|   60|\n",
      "|  SIGMA|   60|\n",
      "|  ALPHA|   60|\n",
      "|  GAMMA|   60|\n",
      "|  DELTA|   60|\n",
      "+-------+-----+\n",
      "\n"
     ]
    }
   ],
   "source": [
    "df.groupBy(\"SECTION\").count().show()"
   ]
  },
  {
   "cell_type": "code",
   "execution_count": 89,
   "id": "57d575cb-ee43-442c-bea1-a8a068104cb8",
   "metadata": {},
   "outputs": [
    {
     "name": "stdout",
     "output_type": "stream",
     "text": [
      "+---+-----+\n",
      "| DV|count|\n",
      "+---+-----+\n",
      "| 12|   41|\n",
      "|  1|    3|\n",
      "| 13|   30|\n",
      "| 16|   74|\n",
      "|  6|   12|\n",
      "|  3|    1|\n",
      "| 20|  103|\n",
      "|  5|   11|\n",
      "| 19|   60|\n",
      "| 15|   63|\n",
      "| 17|   79|\n",
      "|  9|   20|\n",
      "|  4|    4|\n",
      "|  8|   11|\n",
      "|  7|    8|\n",
      "| 10|   26|\n",
      "| 11|   43|\n",
      "| 14|   41|\n",
      "|  2|    6|\n",
      "|  0|   13|\n",
      "+---+-----+\n",
      "only showing top 20 rows\n",
      "\n"
     ]
    }
   ],
   "source": [
    "df.groupBy(\"DV\").count().show()"
   ]
  },
  {
   "cell_type": "code",
   "execution_count": 90,
   "id": "863c9ec1-59eb-40e8-95aa-4c72732054b8",
   "metadata": {},
   "outputs": [],
   "source": [
    "df = df.na.fill({\"DV\": \"0\"})"
   ]
  },
  {
   "cell_type": "code",
   "execution_count": 91,
   "id": "e56bc65e-4488-4dbd-915c-1a74b5bcf4a1",
   "metadata": {},
   "outputs": [
    {
     "name": "stdout",
     "output_type": "stream",
     "text": [
      "+---+-----+\n",
      "| DV|count|\n",
      "+---+-----+\n",
      "| 12|   41|\n",
      "|  1|    3|\n",
      "| 13|   30|\n",
      "| 16|   74|\n",
      "|  6|   12|\n",
      "|  3|    1|\n",
      "| 20|  103|\n",
      "|  5|   11|\n",
      "| 19|   60|\n",
      "| 15|   63|\n",
      "| 17|   79|\n",
      "|  9|   20|\n",
      "|  4|    4|\n",
      "|  8|   11|\n",
      "|  7|    8|\n",
      "| 10|   26|\n",
      "| 11|   43|\n",
      "| 14|   41|\n",
      "|  2|    6|\n",
      "|  0|   13|\n",
      "+---+-----+\n",
      "only showing top 20 rows\n",
      "\n"
     ]
    }
   ],
   "source": [
    "df.groupBy(\"DV\").count().show()"
   ]
  },
  {
   "cell_type": "code",
   "execution_count": 92,
   "id": "4cfb856d-3caa-4385-9b98-8c9353ebb127",
   "metadata": {},
   "outputs": [
    {
     "name": "stdout",
     "output_type": "stream",
     "text": [
      "+----+-----+\n",
      "|M-II|count|\n",
      "+----+-----+\n",
      "|  12|   31|\n",
      "|   1|   37|\n",
      "|  13|   26|\n",
      "|  16|   22|\n",
      "|   6|   31|\n",
      "|   3|   51|\n",
      "|  20|   69|\n",
      "|   5|   29|\n",
      "|  19|   28|\n",
      "|  15|   35|\n",
      "|   9|   25|\n",
      "|  17|   42|\n",
      "|   4|   30|\n",
      "|   8|   41|\n",
      "|   7|   22|\n",
      "|  10|   29|\n",
      "|  11|   33|\n",
      "|  14|   25|\n",
      "|   2|   19|\n",
      "|   0|   64|\n",
      "+----+-----+\n",
      "only showing top 20 rows\n",
      "\n"
     ]
    }
   ],
   "source": [
    "df.groupBy(\"M-II\").count().show()"
   ]
  },
  {
   "cell_type": "code",
   "execution_count": 93,
   "id": "c3675d3d-868d-42b0-ae53-f12ce2a79ee7",
   "metadata": {},
   "outputs": [],
   "source": [
    "df = df.na.fill({\"M-II\": 0})"
   ]
  },
  {
   "cell_type": "code",
   "execution_count": 94,
   "id": "9afb5843-3954-40db-98be-5955fe73c68b",
   "metadata": {},
   "outputs": [
    {
     "name": "stdout",
     "output_type": "stream",
     "text": [
      "+----+-----+\n",
      "|M-II|count|\n",
      "+----+-----+\n",
      "|  12|   31|\n",
      "|   1|   37|\n",
      "|  13|   26|\n",
      "|  16|   22|\n",
      "|   6|   31|\n",
      "|   3|   51|\n",
      "|  20|   69|\n",
      "|   5|   29|\n",
      "|  19|   28|\n",
      "|  15|   35|\n",
      "|   9|   25|\n",
      "|  17|   42|\n",
      "|   4|   30|\n",
      "|   8|   41|\n",
      "|   7|   22|\n",
      "|  10|   29|\n",
      "|  11|   33|\n",
      "|  14|   25|\n",
      "|   2|   19|\n",
      "|   0|   64|\n",
      "+----+-----+\n",
      "only showing top 20 rows\n",
      "\n"
     ]
    }
   ],
   "source": [
    "df.groupBy(\"M-II\").count().show()"
   ]
  },
  {
   "cell_type": "code",
   "execution_count": 95,
   "id": "acf84e9b-d933-48aa-a6cd-2d0943ae2971",
   "metadata": {},
   "outputs": [
    {
     "name": "stdout",
     "output_type": "stream",
     "text": [
      "+---+-----+\n",
      "| PP|count|\n",
      "+---+-----+\n",
      "| 12|   41|\n",
      "|  1|    9|\n",
      "| 13|   20|\n",
      "| 16|   36|\n",
      "|  6|   25|\n",
      "|  3|   16|\n",
      "| 20|  106|\n",
      "|  5|   27|\n",
      "| 19|   50|\n",
      "| 15|   44|\n",
      "| 17|   47|\n",
      "|  9|   38|\n",
      "|  4|   13|\n",
      "|  8|   24|\n",
      "|  7|   24|\n",
      "| 10|   26|\n",
      "| 11|   46|\n",
      "| 14|   44|\n",
      "|  2|   17|\n",
      "|  0|   22|\n",
      "+---+-----+\n",
      "only showing top 20 rows\n",
      "\n"
     ]
    }
   ],
   "source": [
    "df.groupBy(\"PP\").count().show()"
   ]
  },
  {
   "cell_type": "code",
   "execution_count": 96,
   "id": "d05f33d2-5c94-4183-adf8-219d2727a077",
   "metadata": {},
   "outputs": [
    {
     "name": "stdout",
     "output_type": "stream",
     "text": [
      "+----+-----+\n",
      "|BEEE|count|\n",
      "+----+-----+\n",
      "|  12|   31|\n",
      "|   1|    4|\n",
      "|  13|   28|\n",
      "|  16|   48|\n",
      "|   6|   22|\n",
      "|   3|   20|\n",
      "|  20|  103|\n",
      "|   5|   13|\n",
      "|  19|   60|\n",
      "|  15|   41|\n",
      "|   9|   33|\n",
      "|  17|   67|\n",
      "|   4|   18|\n",
      "|   8|   25|\n",
      "|   7|   20|\n",
      "|  10|   26|\n",
      "|  11|   38|\n",
      "|  14|   28|\n",
      "|   2|   13|\n",
      "|   0|   25|\n",
      "+----+-----+\n",
      "only showing top 20 rows\n",
      "\n"
     ]
    }
   ],
   "source": [
    "df.groupBy(\"BEEE\").count().show()"
   ]
  },
  {
   "cell_type": "code",
   "execution_count": 97,
   "id": "aeabf888-9c9b-45f6-b929-b98c54e79b9f",
   "metadata": {},
   "outputs": [],
   "source": [
    "df = df.na.fill({\"BEEE\": 0})"
   ]
  },
  {
   "cell_type": "code",
   "execution_count": 98,
   "id": "6b7f4a3c-02c6-47ff-9598-c33de5cb6440",
   "metadata": {},
   "outputs": [
    {
     "name": "stdout",
     "output_type": "stream",
     "text": [
      "+----+-----+\n",
      "|BEEE|count|\n",
      "+----+-----+\n",
      "|  12|   31|\n",
      "|   1|    4|\n",
      "|  13|   28|\n",
      "|  16|   48|\n",
      "|   6|   22|\n",
      "|   3|   20|\n",
      "|  20|  103|\n",
      "|   5|   13|\n",
      "|  19|   60|\n",
      "|  15|   41|\n",
      "|   9|   33|\n",
      "|  17|   67|\n",
      "|   4|   18|\n",
      "|   8|   25|\n",
      "|   7|   20|\n",
      "|  10|   26|\n",
      "|  11|   38|\n",
      "|  14|   28|\n",
      "|   2|   13|\n",
      "|   0|   25|\n",
      "+----+-----+\n",
      "only showing top 20 rows\n",
      "\n"
     ]
    }
   ],
   "source": [
    "df.groupBy(\"BEEE\").count().show()"
   ]
  },
  {
   "cell_type": "code",
   "execution_count": 99,
   "id": "9a90102c-87e5-4063-bd13-d0dff1e7a922",
   "metadata": {},
   "outputs": [
    {
     "name": "stdout",
     "output_type": "stream",
     "text": [
      "+---+-----+\n",
      "| FL|count|\n",
      "+---+-----+\n",
      "| 12|   13|\n",
      "|  1|    3|\n",
      "| 13|   71|\n",
      "| 16|   21|\n",
      "|  6|    4|\n",
      "|  3|    1|\n",
      "| 20|  189|\n",
      "| 19|   53|\n",
      "| 15|  113|\n",
      "| 17|   17|\n",
      "|  9|    4|\n",
      "|  4|    3|\n",
      "|  8|    9|\n",
      "|  7|    3|\n",
      "| 10|   77|\n",
      "| 11|   13|\n",
      "| 14|   17|\n",
      "|  2|    1|\n",
      "|  0|   16|\n",
      "| 18|   90|\n",
      "+---+-----+\n",
      "\n"
     ]
    }
   ],
   "source": [
    "df.groupBy(\"FL\").count().show()"
   ]
  },
  {
   "cell_type": "code",
   "execution_count": 100,
   "id": "cf5e0ff9-6e57-414f-830e-a08d76d878ea",
   "metadata": {},
   "outputs": [],
   "source": [
    "df = data.na.fill({\"FL\": 0})"
   ]
  },
  {
   "cell_type": "code",
   "execution_count": 101,
   "id": "216bd814-30f0-4946-81e5-1a93f461f1c7",
   "metadata": {},
   "outputs": [
    {
     "name": "stdout",
     "output_type": "stream",
     "text": [
      "+---+-----+\n",
      "| FL|count|\n",
      "+---+-----+\n",
      "| 12|    7|\n",
      "| 13|   50|\n",
      "| 16|   15|\n",
      "|  6|    2|\n",
      "| 20|  120|\n",
      "| 19|   34|\n",
      "| 15|   85|\n",
      "| 17|    9|\n",
      "|  9|    3|\n",
      "|  8|    6|\n",
      "|  7|    2|\n",
      "| 10|   55|\n",
      "| 11|   10|\n",
      "| 14|   11|\n",
      "|  0|   13|\n",
      "| 18|   58|\n",
      "+---+-----+\n",
      "\n"
     ]
    }
   ],
   "source": [
    "df.groupBy(\"FL\").count().show()"
   ]
  },
  {
   "cell_type": "code",
   "execution_count": 102,
   "id": "c07352d8-36d2-4762-a23b-7dde891a8f60",
   "metadata": {},
   "outputs": [
    {
     "name": "stdout",
     "output_type": "stream",
     "text": [
      "+----+-----+\n",
      "|FIMS|count|\n",
      "+----+-----+\n",
      "|  12|   20|\n",
      "|   1|    3|\n",
      "|  13|   36|\n",
      "|  16|   49|\n",
      "|   6|    5|\n",
      "|   3|    6|\n",
      "|  20|   12|\n",
      "|   5|    5|\n",
      "|  19|   34|\n",
      "|  15|   57|\n",
      "|   9|   28|\n",
      "|  17|   40|\n",
      "|   4|    5|\n",
      "|   8|   11|\n",
      "|   7|    5|\n",
      "|  10|   18|\n",
      "|  11|   22|\n",
      "|  14|   40|\n",
      "|   2|    3|\n",
      "|   0|   19|\n",
      "+----+-----+\n",
      "only showing top 20 rows\n",
      "\n"
     ]
    }
   ],
   "source": [
    "df.groupBy(\"FIMS\").count().show()"
   ]
  },
  {
   "cell_type": "code",
   "execution_count": 103,
   "id": "0e45a676-c301-4808-ac69-3ce43689197b",
   "metadata": {},
   "outputs": [],
   "source": [
    "df = data.na.fill({\"FIMS\": 0})"
   ]
  },
  {
   "cell_type": "code",
   "execution_count": 104,
   "id": "5c40e7d6-68bc-471d-919d-85e1153f127a",
   "metadata": {},
   "outputs": [
    {
     "name": "stdout",
     "output_type": "stream",
     "text": [
      "+----+-----+\n",
      "|FIMS|count|\n",
      "+----+-----+\n",
      "|  12|   20|\n",
      "|   1|    3|\n",
      "|  13|   36|\n",
      "|  16|   49|\n",
      "|   6|    5|\n",
      "|   3|    6|\n",
      "|  20|   12|\n",
      "|   5|    5|\n",
      "|  19|   34|\n",
      "|  15|   57|\n",
      "|   9|   28|\n",
      "|  17|   40|\n",
      "|   4|    5|\n",
      "|   8|   11|\n",
      "|   7|    5|\n",
      "|  10|   18|\n",
      "|  11|   22|\n",
      "|  14|   40|\n",
      "|   2|    3|\n",
      "|   0|   19|\n",
      "+----+-----+\n",
      "only showing top 20 rows\n",
      "\n"
     ]
    }
   ],
   "source": [
    "df.groupBy(\"FIMS\").count().show()"
   ]
  },
  {
   "cell_type": "markdown",
   "id": "98259e2b-5b63-41ba-bccf-c7095b324666",
   "metadata": {},
   "source": [
    "#### CALCULATIONS"
   ]
  },
  {
   "cell_type": "code",
   "execution_count": 105,
   "id": "3ad250c6-b117-4a69-a19e-0ed1338fdaea",
   "metadata": {},
   "outputs": [
    {
     "name": "stdout",
     "output_type": "stream",
     "text": [
      "+----+-------+---+----+---+----+---+----+-----+----------+-----+------------------+---------+\n",
      "|S.NO|SECTION| DV|M-II| PP|BEEE| FL|FIMS|TOTAL|percentage|grade|Programming skills|DA SKILLS|\n",
      "+----+-------+---+----+---+----+---+----+-----+----------+-----+------------------+---------+\n",
      "|   1|  ALPHA| 12|   0| 17|   9| 19|  15|   72|      60.0|    C|              Good|     Poor|\n",
      "|   2|  ALPHA| 19|  12| 16|  16| 18|   3|   84|      70.0|    B|              Good|Excellent|\n",
      "|   3|  ALPHA| 18|  14| 18|  18| 18|  16|  102|      85.0|    A|         Excellent|Excellent|\n",
      "|   4|  ALPHA| 15|   9| 19|  17| 19|  15|   94|     78.33|    B|         Excellent|     Good|\n",
      "|   5|  ALPHA| 18|  17| 19|  19| 20|  18|  111|      92.5|   A+|         Excellent|Excellent|\n",
      "|   6|  ALPHA| 17|  16| 18|  10| 15|   9|   85|     70.83|    B|         Excellent|     Good|\n",
      "|   7|  ALPHA| 15|  10| 20|  20| 15|  14|   94|     78.33|    B|         Excellent|     Good|\n",
      "|   8|  ALPHA| 17|  17| 19|  20| 19|  13|  105|      87.5|    A|         Excellent|     Good|\n",
      "|   9|  ALPHA| 10|  18|  0|  20| 19|  15|   82|     68.33|    C|              Poor|     Poor|\n",
      "|  10|  ALPHA| 18|  19| 20|  20| 20|  15|  112|     93.33|   A+|         Excellent|Excellent|\n",
      "|  11|  ALPHA| 17|  18| 20|  18| 20|  18|  111|      92.5|   A+|         Excellent|     Good|\n",
      "|  12|  ALPHA| 20|  20| 20|  20| 19|  16|  115|     95.83|   A+|         Excellent|Excellent|\n",
      "|  13|  ALPHA| 16|  18| 11|  15| 19|  15|   94|     78.33|    B|              Poor|     Good|\n",
      "|  14|  ALPHA| 17|  17| 18|  11| 15|   9|   87|      72.5|    B|         Excellent|     Good|\n",
      "|  15|  ALPHA| 19|  20| 20|  20| 18|  12|  109|     90.83|   A+|         Excellent|Excellent|\n",
      "|  16|  ALPHA| 13|  18| 17|  19| 16|   9|   92|     76.67|    B|              Good|     Poor|\n",
      "|  17|  ALPHA| 15|  17| 18|  17| 17|  13|   97|     80.83|    A|         Excellent|     Good|\n",
      "|  18|  ALPHA| 11|   8| 18|  15| 19|  15|   86|     71.67|    B|         Excellent|     Poor|\n",
      "|  19|  ALPHA| 14|  12| 16|  16| 20|  14|   92|     76.67|    B|              Good|     Poor|\n",
      "|  20|  ALPHA| 19|  17| 20|  20| 20|  18|  114|      95.0|   A+|         Excellent|Excellent|\n",
      "+----+-------+---+----+---+----+---+----+-----+----------+-----+------------------+---------+\n",
      "only showing top 20 rows\n",
      "\n"
     ]
    }
   ],
   "source": [
    "# TOTAL CALCULATION\n",
    "from pyspark.sql.functions import col\n",
    "df = df.withColumn(\n",
    "    \"TOTAL\",\n",
    "    col(\"DV\") + col(\"M-II\") + col(\"PP\") + col(\"BEEE\") + col(\"FL\") + col(\"FIMS\")\n",
    ")\n",
    "data.show()"
   ]
  },
  {
   "cell_type": "code",
   "execution_count": 106,
   "id": "4da222be-2d3a-41c1-9c2e-3e1d289ff499",
   "metadata": {},
   "outputs": [
    {
     "name": "stdout",
     "output_type": "stream",
     "text": [
      "+-----+-----+\n",
      "|TOTAL|count|\n",
      "+-----+-----+\n",
      "|   31|    3|\n",
      "|   85|    7|\n",
      "|   65|    5|\n",
      "|   53|    2|\n",
      "|   78|    9|\n",
      "|  108|    5|\n",
      "|   34|    2|\n",
      "|  115|    4|\n",
      "|  101|    6|\n",
      "|   81|   13|\n",
      "|   28|    2|\n",
      "|   76|    5|\n",
      "|   26|    4|\n",
      "|   44|    3|\n",
      "|  103|   12|\n",
      "|   91|    8|\n",
      "|   93|    4|\n",
      "|  111|    9|\n",
      "|   47|    2|\n",
      "|   52|    4|\n",
      "+-----+-----+\n",
      "only showing top 20 rows\n",
      "\n"
     ]
    }
   ],
   "source": [
    "df.groupBy(\"TOTAL\").count().show()"
   ]
  },
  {
   "cell_type": "code",
   "execution_count": 108,
   "id": "d17ff541-0de8-4777-b74e-34437fa72c5a",
   "metadata": {},
   "outputs": [
    {
     "name": "stdout",
     "output_type": "stream",
     "text": [
      "+----+-------+---+----+---+----+---+----+-----+----------+-----+------------------+---------+\n",
      "|S.NO|SECTION| DV|M-II| PP|BEEE| FL|FIMS|TOTAL|percentage|grade|Programming skills|DA SKILLS|\n",
      "+----+-------+---+----+---+----+---+----+-----+----------+-----+------------------+---------+\n",
      "|   1|  ALPHA| 12|   0| 17|   9| 19|  15|   72|      60.0|    C|              Good|     Poor|\n",
      "|   2|  ALPHA| 19|  12| 16|  16| 18|   3|   84|      70.0|    B|              Good|Excellent|\n",
      "|   3|  ALPHA| 18|  14| 18|  18| 18|  16|  102|      85.0|    A|         Excellent|Excellent|\n",
      "|   4|  ALPHA| 15|   9| 19|  17| 19|  15|   94|     78.33|    B|         Excellent|     Good|\n",
      "|   5|  ALPHA| 18|  17| 19|  19| 20|  18|  111|      92.5|   A+|         Excellent|Excellent|\n",
      "|   6|  ALPHA| 17|  16| 18|  10| 15|   9|   85|     70.83|    B|         Excellent|     Good|\n",
      "|   7|  ALPHA| 15|  10| 20|  20| 15|  14|   94|     78.33|    B|         Excellent|     Good|\n",
      "|   8|  ALPHA| 17|  17| 19|  20| 19|  13|  105|      87.5|    A|         Excellent|     Good|\n",
      "|   9|  ALPHA| 10|  18|  0|  20| 19|  15|   82|     68.33|    C|              Poor|     Poor|\n",
      "|  10|  ALPHA| 18|  19| 20|  20| 20|  15|  112|     93.33|   A+|         Excellent|Excellent|\n",
      "|  11|  ALPHA| 17|  18| 20|  18| 20|  18|  111|      92.5|   A+|         Excellent|     Good|\n",
      "|  12|  ALPHA| 20|  20| 20|  20| 19|  16|  115|     95.83|   A+|         Excellent|Excellent|\n",
      "|  13|  ALPHA| 16|  18| 11|  15| 19|  15|   94|     78.33|    B|              Poor|     Good|\n",
      "|  14|  ALPHA| 17|  17| 18|  11| 15|   9|   87|      72.5|    B|         Excellent|     Good|\n",
      "|  15|  ALPHA| 19|  20| 20|  20| 18|  12|  109|     90.83|   A+|         Excellent|Excellent|\n",
      "|  16|  ALPHA| 13|  18| 17|  19| 16|   9|   92|     76.67|    B|              Good|     Poor|\n",
      "|  17|  ALPHA| 15|  17| 18|  17| 17|  13|   97|     80.83|    A|         Excellent|     Good|\n",
      "|  18|  ALPHA| 11|   8| 18|  15| 19|  15|   86|     71.67|    B|         Excellent|     Poor|\n",
      "|  19|  ALPHA| 14|  12| 16|  16| 20|  14|   92|     76.67|    B|              Good|     Poor|\n",
      "|  20|  ALPHA| 19|  17| 20|  20| 20|  18|  114|      95.0|   A+|         Excellent|Excellent|\n",
      "+----+-------+---+----+---+----+---+----+-----+----------+-----+------------------+---------+\n",
      "only showing top 20 rows\n",
      "\n"
     ]
    }
   ],
   "source": [
    "# PERCENTAGE CALCULATION\n",
    "df = df.withColumn(\n",
    "    \"percentage\",\n",
    "    (col(\"total\") / 120) * 100\n",
    ")\n",
    "\n",
    "from pyspark.sql.functions import round\n",
    "df = data.withColumn(\"percentage\", round(col(\"percentage\"), 2))\n",
    "\n",
    "df.show()"
   ]
  },
  {
   "cell_type": "code",
   "execution_count": 109,
   "id": "f5a21451-9663-4d9c-91fe-b027160a0175",
   "metadata": {},
   "outputs": [
    {
     "name": "stdout",
     "output_type": "stream",
     "text": [
      "+----------+-----+\n",
      "|percentage|count|\n",
      "+----------+-----+\n",
      "|      47.5|    2|\n",
      "|      70.0|   12|\n",
      "|       0.0|    7|\n",
      "|     49.17|    4|\n",
      "|      3.33|    1|\n",
      "|     76.67|   10|\n",
      "|     28.33|    2|\n",
      "|     98.33|    3|\n",
      "|     73.33|    5|\n",
      "|      97.5|    7|\n",
      "|      67.5|   13|\n",
      "|      52.5|   10|\n",
      "|     25.83|    3|\n",
      "|      82.5|    4|\n",
      "|     83.33|    6|\n",
      "|      75.0|    6|\n",
      "|      92.5|    9|\n",
      "|     70.83|    7|\n",
      "|     23.33|    2|\n",
      "|      35.0|    3|\n",
      "+----------+-----+\n",
      "only showing top 20 rows\n",
      "\n"
     ]
    }
   ],
   "source": [
    "df.groupBy(\"percentage\").count().show()"
   ]
  },
  {
   "cell_type": "code",
   "execution_count": 110,
   "id": "fdeaaf97-400c-48b2-9e74-1f57283fd228",
   "metadata": {},
   "outputs": [
    {
     "name": "stdout",
     "output_type": "stream",
     "text": [
      "+-----+----------+-----+\n",
      "|total|percentage|grade|\n",
      "+-----+----------+-----+\n",
      "|   72|      60.0|    C|\n",
      "|   84|      70.0|    B|\n",
      "|  102|      85.0|    A|\n",
      "|   94|     78.33|    B|\n",
      "|  111|      92.5|   A+|\n",
      "|   85|     70.83|    B|\n",
      "|   94|     78.33|    B|\n",
      "|  105|      87.5|    A|\n",
      "|   82|     68.33|    C|\n",
      "|  112|     93.33|   A+|\n",
      "|  111|      92.5|   A+|\n",
      "|  115|     95.83|   A+|\n",
      "|   94|     78.33|    B|\n",
      "|   87|      72.5|    B|\n",
      "|  109|     90.83|   A+|\n",
      "|   92|     76.67|    B|\n",
      "|   97|     80.83|    A|\n",
      "|   86|     71.67|    B|\n",
      "|   92|     76.67|    B|\n",
      "|  114|      95.0|   A+|\n",
      "+-----+----------+-----+\n",
      "only showing top 20 rows\n",
      "\n"
     ]
    }
   ],
   "source": [
    "# GRADE CALCULATION\n",
    "df = df.withColumn(\n",
    "    \"grade\",\n",
    "    when(col(\"percentage\") >= 90, \"A+\")\n",
    "    .when(col(\"percentage\") >= 80, \"A\")\n",
    "    .when(col(\"percentage\") >= 70, \"B\")\n",
    "    .when(col(\"percentage\") >= 60, \"C\")\n",
    "    .when(col(\"percentage\") >= 50, \"D\")\n",
    "    .otherwise(\"F\")\n",
    ")\n",
    "df.select(\"total\", \"percentage\", \"grade\").show()"
   ]
  },
  {
   "cell_type": "code",
   "execution_count": 111,
   "id": "a27c049a-006d-4b93-a0a7-389685920cc9",
   "metadata": {},
   "outputs": [
    {
     "name": "stdout",
     "output_type": "stream",
     "text": [
      "+-----+-----+\n",
      "|grade|count|\n",
      "+-----+-----+\n",
      "|    F|   97|\n",
      "|    B|   96|\n",
      "|    D|   71|\n",
      "|    C|   78|\n",
      "|    A|   76|\n",
      "|   A+|   62|\n",
      "+-----+-----+\n",
      "\n"
     ]
    }
   ],
   "source": [
    "df.groupBy(\"grade\").count().show()"
   ]
  },
  {
   "cell_type": "markdown",
   "id": "14b0b824-6d5c-4307-86c2-2aa523a30efc",
   "metadata": {},
   "source": [
    "#### SKILLS CHECK"
   ]
  },
  {
   "cell_type": "code",
   "execution_count": 112,
   "id": "c31c2405-8d15-4c45-b0e6-f1586acd66c0",
   "metadata": {},
   "outputs": [
    {
     "name": "stdout",
     "output_type": "stream",
     "text": [
      "+----+-------+---+----+---+----+---+----+-----+----------+-----+------------------+---------+\n",
      "|S.NO|SECTION| DV|M-II| PP|BEEE| FL|FIMS|TOTAL|percentage|grade|Programming skills|DA SKILLS|\n",
      "+----+-------+---+----+---+----+---+----+-----+----------+-----+------------------+---------+\n",
      "|   1|  ALPHA| 12|   0| 17|   9| 19|  15|   72|      60.0|    C|              Good|     Poor|\n",
      "|   2|  ALPHA| 19|  12| 16|  16| 18|   3|   84|      70.0|    B|              Good|Excellent|\n",
      "|   3|  ALPHA| 18|  14| 18|  18| 18|  16|  102|      85.0|    A|         Excellent|Excellent|\n",
      "|   4|  ALPHA| 15|   9| 19|  17| 19|  15|   94|     78.33|    B|         Excellent|     Good|\n",
      "|   5|  ALPHA| 18|  17| 19|  19| 20|  18|  111|      92.5|   A+|         Excellent|Excellent|\n",
      "|   6|  ALPHA| 17|  16| 18|  10| 15|   9|   85|     70.83|    B|         Excellent|     Good|\n",
      "|   7|  ALPHA| 15|  10| 20|  20| 15|  14|   94|     78.33|    B|         Excellent|     Good|\n",
      "|   8|  ALPHA| 17|  17| 19|  20| 19|  13|  105|      87.5|    A|         Excellent|     Good|\n",
      "|   9|  ALPHA| 10|  18|  0|  20| 19|  15|   82|     68.33|    C|              Poor|     Poor|\n",
      "|  10|  ALPHA| 18|  19| 20|  20| 20|  15|  112|     93.33|   A+|         Excellent|Excellent|\n",
      "|  11|  ALPHA| 17|  18| 20|  18| 20|  18|  111|      92.5|   A+|         Excellent|     Good|\n",
      "|  12|  ALPHA| 20|  20| 20|  20| 19|  16|  115|     95.83|   A+|         Excellent|Excellent|\n",
      "|  13|  ALPHA| 16|  18| 11|  15| 19|  15|   94|     78.33|    B|              Poor|     Good|\n",
      "|  14|  ALPHA| 17|  17| 18|  11| 15|   9|   87|      72.5|    B|         Excellent|     Good|\n",
      "|  15|  ALPHA| 19|  20| 20|  20| 18|  12|  109|     90.83|   A+|         Excellent|Excellent|\n",
      "|  16|  ALPHA| 13|  18| 17|  19| 16|   9|   92|     76.67|    B|              Good|     Poor|\n",
      "|  17|  ALPHA| 15|  17| 18|  17| 17|  13|   97|     80.83|    A|         Excellent|     Good|\n",
      "|  18|  ALPHA| 11|   8| 18|  15| 19|  15|   86|     71.67|    B|         Excellent|     Poor|\n",
      "|  19|  ALPHA| 14|  12| 16|  16| 20|  14|   92|     76.67|    B|              Good|     Poor|\n",
      "|  20|  ALPHA| 19|  17| 20|  20| 20|  18|  114|      95.0|   A+|         Excellent|Excellent|\n",
      "+----+-------+---+----+---+----+---+----+-----+----------+-----+------------------+---------+\n",
      "only showing top 20 rows\n",
      "\n"
     ]
    }
   ],
   "source": [
    "#PROGRAMMING SKILLS\n",
    "df = df.withColumn(\n",
    "    \"Programming skills\",\n",
    "    when(col(\"PP\") >= 18, \"Excellent\")\n",
    "    .when(col(\"PP\") >= 15, \"Good\")\n",
    "    .otherwise(\"Poor\")\n",
    ")\n",
    "\n",
    "df.show()"
   ]
  },
  {
   "cell_type": "code",
   "execution_count": 114,
   "id": "076b919e-e9f9-4c21-a6e4-7a47c05b604b",
   "metadata": {},
   "outputs": [
    {
     "name": "stdout",
     "output_type": "stream",
     "text": [
      "+----+-------+---+----+---+----+---+----+-----+----------+-----+------------------+---------+\n",
      "|S.NO|SECTION| DV|M-II| PP|BEEE| FL|FIMS|TOTAL|percentage|grade|Programming skills|DA SKILLS|\n",
      "+----+-------+---+----+---+----+---+----+-----+----------+-----+------------------+---------+\n",
      "|   1|  ALPHA| 12|   0| 17|   9| 19|  15|   72|      60.0|    C|              Good|     Poor|\n",
      "|   2|  ALPHA| 19|  12| 16|  16| 18|   3|   84|      70.0|    B|              Good|Excellent|\n",
      "|   3|  ALPHA| 18|  14| 18|  18| 18|  16|  102|      85.0|    A|         Excellent|Excellent|\n",
      "|   4|  ALPHA| 15|   9| 19|  17| 19|  15|   94|     78.33|    B|         Excellent|     Good|\n",
      "|   5|  ALPHA| 18|  17| 19|  19| 20|  18|  111|      92.5|   A+|         Excellent|Excellent|\n",
      "|   6|  ALPHA| 17|  16| 18|  10| 15|   9|   85|     70.83|    B|         Excellent|     Good|\n",
      "|   7|  ALPHA| 15|  10| 20|  20| 15|  14|   94|     78.33|    B|         Excellent|     Good|\n",
      "|   8|  ALPHA| 17|  17| 19|  20| 19|  13|  105|      87.5|    A|         Excellent|     Good|\n",
      "|   9|  ALPHA| 10|  18|  0|  20| 19|  15|   82|     68.33|    C|              Poor|     Poor|\n",
      "|  10|  ALPHA| 18|  19| 20|  20| 20|  15|  112|     93.33|   A+|         Excellent|Excellent|\n",
      "|  11|  ALPHA| 17|  18| 20|  18| 20|  18|  111|      92.5|   A+|         Excellent|     Good|\n",
      "|  12|  ALPHA| 20|  20| 20|  20| 19|  16|  115|     95.83|   A+|         Excellent|Excellent|\n",
      "|  13|  ALPHA| 16|  18| 11|  15| 19|  15|   94|     78.33|    B|              Poor|     Good|\n",
      "|  14|  ALPHA| 17|  17| 18|  11| 15|   9|   87|      72.5|    B|         Excellent|     Good|\n",
      "|  15|  ALPHA| 19|  20| 20|  20| 18|  12|  109|     90.83|   A+|         Excellent|Excellent|\n",
      "|  16|  ALPHA| 13|  18| 17|  19| 16|   9|   92|     76.67|    B|              Good|     Poor|\n",
      "|  17|  ALPHA| 15|  17| 18|  17| 17|  13|   97|     80.83|    A|         Excellent|     Good|\n",
      "|  18|  ALPHA| 11|   8| 18|  15| 19|  15|   86|     71.67|    B|         Excellent|     Poor|\n",
      "|  19|  ALPHA| 14|  12| 16|  16| 20|  14|   92|     76.67|    B|              Good|     Poor|\n",
      "|  20|  ALPHA| 19|  17| 20|  20| 20|  18|  114|      95.0|   A+|         Excellent|Excellent|\n",
      "+----+-------+---+----+---+----+---+----+-----+----------+-----+------------------+---------+\n",
      "only showing top 20 rows\n",
      "\n"
     ]
    }
   ],
   "source": [
    "#DA SKILLS\n",
    "df = df.withColumn(\n",
    "    \"DA SKILLS\",\n",
    "    when(col(\"DV\") >= 18, \"Excellent\")\n",
    "    .when(col(\"DV\") >= 15, \"Good\")\n",
    "    .otherwise(\"Poor\")\n",
    ")\n",
    "df.show()"
   ]
  },
  {
   "cell_type": "markdown",
   "id": "46f4ac0a-0cff-4273-92f2-95bec4e1634d",
   "metadata": {},
   "source": [
    "#### VISUAL REPRESENTATION"
   ]
  },
  {
   "cell_type": "code",
   "execution_count": 39,
   "id": "377aaf2a-b744-4180-9474-d10370a72df5",
   "metadata": {},
   "outputs": [
    {
     "name": "stdout",
     "output_type": "stream",
     "text": [
      "Collecting pandas\n",
      "  Downloading pandas-2.3.2-cp310-cp310-win_amd64.whl (11.3 MB)\n",
      "Collecting tzdata>=2022.7\n",
      "  Downloading tzdata-2025.2-py2.py3-none-any.whl (347 kB)\n",
      "Collecting numpy>=1.22.4\n",
      "  Downloading numpy-2.2.6-cp310-cp310-win_amd64.whl (12.9 MB)\n",
      "Requirement already satisfied: python-dateutil>=2.8.2 in c:\\users\\intur\\appdata\\local\\programs\\python\\python310\\lib\\site-packages (from pandas) (2.9.0.post0)\n",
      "Collecting pytz>=2020.1\n",
      "  Downloading pytz-2025.2-py2.py3-none-any.whl (509 kB)\n",
      "Requirement already satisfied: six>=1.5 in c:\\users\\intur\\appdata\\local\\programs\\python\\python310\\lib\\site-packages (from python-dateutil>=2.8.2->pandas) (1.17.0)\n",
      "Installing collected packages: tzdata, pytz, numpy, pandas\n",
      "Successfully installed numpy-2.2.6 pandas-2.3.2 pytz-2025.2 tzdata-2025.2\n",
      "Note: you may need to restart the kernel to use updated packages.\n"
     ]
    },
    {
     "name": "stderr",
     "output_type": "stream",
     "text": [
      "WARNING: You are using pip version 21.2.3; however, version 25.2 is available.\n",
      "You should consider upgrading via the 'C:\\Users\\intur\\AppData\\Local\\Programs\\Python\\Python310\\python.exe -m pip install --upgrade pip' command.\n"
     ]
    }
   ],
   "source": [
    "pip install pandas --upgrade\n"
   ]
  },
  {
   "cell_type": "code",
   "execution_count": 115,
   "id": "a37750ba-87f4-4573-a778-0f1ab4e68ebe",
   "metadata": {},
   "outputs": [],
   "source": [
    "pandas_df=df.toPandas()"
   ]
  },
  {
   "cell_type": "code",
   "execution_count": 116,
   "id": "96936024-bb42-4d36-8d3e-bd90d6bbacc7",
   "metadata": {
    "scrolled": true
   },
   "outputs": [
    {
     "name": "stdout",
     "output_type": "stream",
     "text": [
      "<class 'pandas.core.frame.DataFrame'>\n",
      "RangeIndex: 480 entries, 0 to 479\n",
      "Data columns (total 13 columns):\n",
      " #   Column              Non-Null Count  Dtype  \n",
      "---  ------              --------------  -----  \n",
      " 0   S.NO                480 non-null    object \n",
      " 1   SECTION             480 non-null    object \n",
      " 2   DV                  480 non-null    int32  \n",
      " 3   M-II                480 non-null    int32  \n",
      " 4   PP                  480 non-null    int32  \n",
      " 5   BEEE                480 non-null    int32  \n",
      " 6   FL                  480 non-null    int32  \n",
      " 7   FIMS                480 non-null    int32  \n",
      " 8   TOTAL               480 non-null    int32  \n",
      " 9   percentage          480 non-null    float64\n",
      " 10  grade               480 non-null    object \n",
      " 11  Programming skills  480 non-null    object \n",
      " 12  DA SKILLS           480 non-null    object \n",
      "dtypes: float64(1), int32(7), object(5)\n",
      "memory usage: 35.8+ KB\n"
     ]
    }
   ],
   "source": [
    "pandas_df.info()"
   ]
  },
  {
   "cell_type": "code",
   "execution_count": 117,
   "id": "72ffd02d-b7e3-48e8-9e2d-7f438e8f242d",
   "metadata": {},
   "outputs": [],
   "source": [
    "df=pandas_df"
   ]
  },
  {
   "cell_type": "code",
   "execution_count": 118,
   "id": "d85d9049-ca2c-47b7-80b9-dd8d5e329d0b",
   "metadata": {},
   "outputs": [
    {
     "name": "stdout",
     "output_type": "stream",
     "text": [
      "Requirement already satisfied: matplotlib in c:\\users\\intur\\appdata\\local\\programs\\python\\python310\\lib\\site-packages (3.10.6)\n",
      "Requirement already satisfied: kiwisolver>=1.3.1 in c:\\users\\intur\\appdata\\local\\programs\\python\\python310\\lib\\site-packages (from matplotlib) (1.4.9)\n",
      "Requirement already satisfied: pyparsing>=2.3.1 in c:\\users\\intur\\appdata\\local\\programs\\python\\python310\\lib\\site-packages (from matplotlib) (3.2.4)\n",
      "Requirement already satisfied: pillow>=8 in c:\\users\\intur\\appdata\\local\\programs\\python\\python310\\lib\\site-packages (from matplotlib) (11.3.0)\n",
      "Requirement already satisfied: numpy>=1.23 in c:\\users\\intur\\appdata\\local\\programs\\python\\python310\\lib\\site-packages (from matplotlib) (2.2.6)\n",
      "Requirement already satisfied: cycler>=0.10 in c:\\users\\intur\\appdata\\local\\programs\\python\\python310\\lib\\site-packages (from matplotlib) (0.12.1)\n",
      "Requirement already satisfied: contourpy>=1.0.1 in c:\\users\\intur\\appdata\\local\\programs\\python\\python310\\lib\\site-packages (from matplotlib) (1.3.2)\n",
      "Requirement already satisfied: packaging>=20.0 in c:\\users\\intur\\appdata\\local\\programs\\python\\python310\\lib\\site-packages (from matplotlib) (25.0)\n",
      "Requirement already satisfied: fonttools>=4.22.0 in c:\\users\\intur\\appdata\\local\\programs\\python\\python310\\lib\\site-packages (from matplotlib) (4.60.0)\n",
      "Requirement already satisfied: python-dateutil>=2.7 in c:\\users\\intur\\appdata\\local\\programs\\python\\python310\\lib\\site-packages (from matplotlib) (2.9.0.post0)\n",
      "Requirement already satisfied: six>=1.5 in c:\\users\\intur\\appdata\\local\\programs\\python\\python310\\lib\\site-packages (from python-dateutil>=2.7->matplotlib) (1.17.0)\n",
      "Note: you may need to restart the kernel to use updated packages.\n"
     ]
    },
    {
     "name": "stderr",
     "output_type": "stream",
     "text": [
      "WARNING: You are using pip version 21.2.3; however, version 25.2 is available.\n",
      "You should consider upgrading via the 'C:\\Users\\intur\\AppData\\Local\\Programs\\Python\\Python310\\python.exe -m pip install --upgrade pip' command.\n"
     ]
    }
   ],
   "source": [
    "pip install matplotlib"
   ]
  },
  {
   "cell_type": "code",
   "execution_count": 119,
   "id": "2c34e720-24fd-4cca-bae3-a8c278534514",
   "metadata": {},
   "outputs": [
    {
     "name": "stdout",
     "output_type": "stream",
     "text": [
      "Requirement already satisfied: seaborn in c:\\users\\intur\\appdata\\local\\programs\\python\\python310\\lib\\site-packages (0.13.2)\n",
      "Requirement already satisfied: numpy!=1.24.0,>=1.20 in c:\\users\\intur\\appdata\\local\\programs\\python\\python310\\lib\\site-packages (from seaborn) (2.2.6)\n",
      "Requirement already satisfied: matplotlib!=3.6.1,>=3.4 in c:\\users\\intur\\appdata\\local\\programs\\python\\python310\\lib\\site-packages (from seaborn) (3.10.6)\n",
      "Requirement already satisfied: pandas>=1.2 in c:\\users\\intur\\appdata\\local\\programs\\python\\python310\\lib\\site-packages (from seaborn) (2.3.2)\n",
      "Requirement already satisfied: fonttools>=4.22.0 in c:\\users\\intur\\appdata\\local\\programs\\python\\python310\\lib\\site-packages (from matplotlib!=3.6.1,>=3.4->seaborn) (4.60.0)\n",
      "Requirement already satisfied: python-dateutil>=2.7 in c:\\users\\intur\\appdata\\local\\programs\\python\\python310\\lib\\site-packages (from matplotlib!=3.6.1,>=3.4->seaborn) (2.9.0.post0)\n",
      "Requirement already satisfied: packaging>=20.0 in c:\\users\\intur\\appdata\\local\\programs\\python\\python310\\lib\\site-packages (from matplotlib!=3.6.1,>=3.4->seaborn) (25.0)\n",
      "Requirement already satisfied: contourpy>=1.0.1 in c:\\users\\intur\\appdata\\local\\programs\\python\\python310\\lib\\site-packages (from matplotlib!=3.6.1,>=3.4->seaborn) (1.3.2)\n",
      "Requirement already satisfied: pillow>=8 in c:\\users\\intur\\appdata\\local\\programs\\python\\python310\\lib\\site-packages (from matplotlib!=3.6.1,>=3.4->seaborn) (11.3.0)\n",
      "Requirement already satisfied: cycler>=0.10 in c:\\users\\intur\\appdata\\local\\programs\\python\\python310\\lib\\site-packages (from matplotlib!=3.6.1,>=3.4->seaborn) (0.12.1)\n",
      "Requirement already satisfied: kiwisolver>=1.3.1 in c:\\users\\intur\\appdata\\local\\programs\\python\\python310\\lib\\site-packages (from matplotlib!=3.6.1,>=3.4->seaborn) (1.4.9)\n",
      "Requirement already satisfied: pyparsing>=2.3.1 in c:\\users\\intur\\appdata\\local\\programs\\python\\python310\\lib\\site-packages (from matplotlib!=3.6.1,>=3.4->seaborn) (3.2.4)\n",
      "Requirement already satisfied: tzdata>=2022.7 in c:\\users\\intur\\appdata\\local\\programs\\python\\python310\\lib\\site-packages (from pandas>=1.2->seaborn) (2025.2)\n",
      "Requirement already satisfied: pytz>=2020.1 in c:\\users\\intur\\appdata\\local\\programs\\python\\python310\\lib\\site-packages (from pandas>=1.2->seaborn) (2025.2)\n",
      "Requirement already satisfied: six>=1.5 in c:\\users\\intur\\appdata\\local\\programs\\python\\python310\\lib\\site-packages (from python-dateutil>=2.7->matplotlib!=3.6.1,>=3.4->seaborn) (1.17.0)\n",
      "Note: you may need to restart the kernel to use updated packages.\n"
     ]
    },
    {
     "name": "stderr",
     "output_type": "stream",
     "text": [
      "WARNING: You are using pip version 21.2.3; however, version 25.2 is available.\n",
      "You should consider upgrading via the 'C:\\Users\\intur\\AppData\\Local\\Programs\\Python\\Python310\\python.exe -m pip install --upgrade pip' command.\n"
     ]
    }
   ],
   "source": [
    "pip install seaborn"
   ]
  },
  {
   "cell_type": "code",
   "execution_count": 120,
   "id": "48fb71e0-0df5-4834-bff8-8ff01f8370af",
   "metadata": {},
   "outputs": [],
   "source": [
    "import warnings\n",
    "warnings.filterwarnings('ignore')"
   ]
  },
  {
   "cell_type": "code",
   "execution_count": 134,
   "id": "e7a7354d-e0f7-4e7d-a58b-eb6e89579b33",
   "metadata": {},
   "outputs": [
    {
     "data": {
      "image/png": "[encoded data removed]",
      "text/plain": [
       "<Figure size 700x500 with 1 Axes>"
      ]
     },
     "metadata": {},
     "output_type": "display_data"
    }
   ],
   "source": [
    "import matplotlib.pyplot as plt\n",
    "import seaborn as sbn\n",
    "fig, ax = plt.subplots(figsize=(7,5))\n",
    "sbn.barplot(\n",
    "    x=df['grade'].value_counts().index, \n",
    "    y=df['grade'].value_counts().values, \n",
    "    palette=\"crest\", \n",
    "    ax=ax\n",
    ")\n",
    "ax.set_title(\"Grade Frequency Chart\", fontsize=14)\n",
    "ax.set_xlabel(\"Grade\")\n",
    "ax.set_ylabel(\"Count\")\n",
    "\n",
    "plt.tight_layout()\n",
    "plt.show()\n"
   ]
  },
  {
   "cell_type": "code",
   "execution_count": 135,
   "id": "5d370bb9-91a5-47f9-ab0b-edb9af3a811f",
   "metadata": {},
   "outputs": [
    {
     "data": {
      "image/png": "[encoded data removed]",
      "text/plain": [
       "<Figure size 700x500 with 1 Axes>"
      ]
     },
     "metadata": {},
     "output_type": "display_data"
    }
   ],
   "source": [
    "import matplotlib.pyplot as plt\n",
    "import seaborn as sbn\n",
    "\n",
    "# Plot distribution of programming skill levels (Column: Programming skills)\n",
    "fig, ax = plt.subplots(figsize=(7,5))\n",
    "skill_counts = df['Programming skills'].value_counts()\n",
    "\n",
    "sbn.barplot(\n",
    "    x=skill_counts.index,\n",
    "    y=skill_counts.values,\n",
    "    palette=\"mako\",\n",
    "    ax=ax\n",
    ")\n",
    "\n",
    "ax.set_title(\"Programming Skills\", fontsize=14)\n",
    "ax.set_xlabel(\"SKILLS\")\n",
    "ax.set_ylabel(\"Students Count\")\n",
    "plt.setp(ax.get_xticklabels(), rotation=0)\n",
    "\n",
    "plt.tight_layout()\n",
    "plt.show()\n"
   ]
  },
  {
   "cell_type": "code",
   "execution_count": 136,
   "id": "3932f233-61ba-4fd1-a78c-e080becdbe7c",
   "metadata": {},
   "outputs": [
    {
     "data": {
      "image/png": "[encoded data removed]",
      "text/plain": [
       "<Figure size 800x500 with 1 Axes>"
      ]
     },
     "metadata": {},
     "output_type": "display_data"
    }
   ],
   "source": [
    "import matplotlib.pyplot as plt\n",
    "import seaborn as sbn\n",
    "\n",
    "# Visualizing Data Analytics skill levels (Column: DA SKILLS)\n",
    "fig, ax = plt.subplots(figsize=(8,5))\n",
    "\n",
    "da_counts = df['DA SKILLS'].value_counts()\n",
    "\n",
    "sbn.barplot(\n",
    "    y=da_counts.index,\n",
    "    x=da_counts.values,\n",
    "    palette=\"flare\",\n",
    "    ax=ax\n",
    ")\n",
    "\n",
    "ax.set_title(\"Data Analytics Skills Overview\", fontsize=14, fontweight=\"bold\")\n",
    "ax.set_xlabel(\"Number of Students\")\n",
    "ax.set_ylabel(\"DA Skill Level\")\n",
    "\n",
    "plt.tight_layout()\n",
    "plt.show()\n"
   ]
  },
  {
   "cell_type": "code",
   "execution_count": 137,
   "id": "0f068510-a108-4d08-8c29-a5cda4e03c99",
   "metadata": {},
   "outputs": [
    {
     "data": {
      "image/png": "[encoded data removed]",
      "text/plain": [
       "<Figure size 800x500 with 1 Axes>"
      ]
     },
     "metadata": {},
     "output_type": "display_data"
    }
   ],
   "source": [
    "import matplotlib.pyplot as plt\n",
    "import seaborn as sbn\n",
    "\n",
    "# Boxplot of percentage scores across grade categories\n",
    "fig, ax = plt.subplots(figsize=(8,5))\n",
    "\n",
    "sbn.boxplot(\n",
    "    y='grade',\n",
    "    x='percentage',\n",
    "    data=df,\n",
    "    palette=\"rocket\",\n",
    "    ax=ax,\n",
    "    fliersize=4,   \n",
    "    linewidth=1.2 \n",
    ")\n",
    "\n",
    "ax.set_title(\"Grade-wise Percentage Spread\", fontsize=14, fontweight=\"bold\")\n",
    "ax.set_xlabel(\"Percentage\")\n",
    "ax.set_ylabel(\"Grade\")\n",
    "\n",
    "plt.tight_layout()\n",
    "plt.show()\n"
   ]
  },
  {
   "cell_type": "code",
   "execution_count": 138,
   "id": "682d810f-4107-4e75-a772-7c59b5c1c8c2",
   "metadata": {},
   "outputs": [
    {
     "data": {
      "image/png": "[encoded data removed]",
      "text/plain": [
       "<Figure size 900x600 with 1 Axes>"
      ]
     },
     "metadata": {},
     "output_type": "display_data"
    }
   ],
   "source": [
    "import matplotlib.pyplot as plt\n",
    "import seaborn as sbn\n",
    "# Comparing programming skill levels with percentage scores\n",
    "fig, ax = plt.subplots(figsize=(9,6))\n",
    "\n",
    "# Base boxplot\n",
    "sbn.boxplot(\n",
    "    y='Programming skills',\n",
    "    x='percentage',\n",
    "    data=df,\n",
    "    palette=\"Spectral\",\n",
    "    ax=ax,\n",
    "    width=0.5,\n",
    "    fliersize=0   \n",
    ")\n",
    "sbn.stripplot(\n",
    "    y='Programming skills',\n",
    "    x='percentage',\n",
    "    data=df,\n",
    "    color=\"black\",\n",
    "    size=3,\n",
    "    alpha=0.6,\n",
    "    ax=ax\n",
    ")\n",
    "\n",
    "ax.set_title(\"Percentage Performance by Programming Skill Level\", fontsize=15, fontweight=\"bold\")\n",
    "ax.set_xlabel(\"Percentage (%)\")\n",
    "ax.set_ylabel(\"Programming Skill Level\")\n",
    "\n",
    "plt.tight_layout()\n",
    "plt.show()\n"
   ]
  },
  {
   "cell_type": "code",
   "execution_count": 139,
   "id": "3f0099dd-6b71-42c3-b215-a306bbb75267",
   "metadata": {},
   "outputs": [],
   "source": [
    "import pandas as pd"
   ]
  },
  {
   "cell_type": "code",
   "execution_count": 148,
   "id": "568d0168-0c8b-4e3d-b792-2983b3ad67e1",
   "metadata": {},
   "outputs": [
    {
     "data": {
      "image/png": "[encoded data removed]",
      "text/plain": [
       "<Figure size 900x600 with 1 Axes>"
      ]
     },
     "metadata": {},
     "output_type": "display_data"
    }
   ],
   "source": [
    "import matplotlib.pyplot as plt\n",
    "import seaborn as sbn\n",
    "# Relationship between Grade and Programming Skills\n",
    "fig, ax = plt.subplots(figsize=(9,6))\n",
    "\n",
    "sbn.barplot(\n",
    "    data=df,\n",
    "    x='grade',\n",
    "    y='percentage',\n",
    "    hue='Programming skills',\n",
    "    palette=\"coolwarm\",\n",
    "    ci=None,\n",
    "    ax=ax\n",
    ")\n",
    "\n",
    "ax.set_title(\"Average Percentage per Grade by Programming Skill Level\", fontsize=15, fontweight=\"bold\")\n",
    "ax.set_xlabel(\"Grade\")\n",
    "ax.set_ylabel(\"Average Percentage\")\n",
    "ax.legend(title=\"Programming Skills\", bbox_to_anchor=(1.05, 1), loc='upper left')\n",
    "\n",
    "plt.tight_layout()\n",
    "plt.show()\n"
   ]
  },
  {
   "cell_type": "code",
   "execution_count": 146,
   "id": "da8e896a-a88a-4a4e-be56-c46f5e4262f0",
   "metadata": {},
   "outputs": [
    {
     "data": {
      "image/png": "[encoded data removed]",
      "text/plain": [
       "<Figure size 900x600 with 1 Axes>"
      ]
     },
     "metadata": {},
     "output_type": "display_data"
    }
   ],
   "source": [
    "import matplotlib.pyplot as plt\n",
    "import seaborn as sbn\n",
    "\n",
    "custom_colors = [\"#6A5ACD\", \"#20B2AA\", \"#FF7F50\", \"#FFD700\", \"#8B0000\"]\n",
    "\n",
    "fig, ax = plt.subplots(figsize=(9,6))\n",
    "\n",
    "sbn.countplot(\n",
    "    data=df,\n",
    "    y='grade',\n",
    "    hue='DA SKILLS',\n",
    "    palette=custom_colors,\n",
    "    ax=ax\n",
    ")\n",
    "\n",
    "ax.set_title(\" Data Analytics Skills v/s Grades\", fontsize=15, fontweight=\"bold\", color=\"#222222\")\n",
    "ax.set_xlabel(\"Number of Students\")\n",
    "ax.set_ylabel(\"Grade\")\n",
    "\n",
    "# Legend styling\n",
    "ax.legend(title=\"DA Skills\", bbox_to_anchor=(1.05, 1), loc='upper left', frameon=False)\n",
    "\n",
    "plt.tight_layout()\n",
    "plt.show()\n"
   ]
  },
  {
   "cell_type": "code",
   "execution_count": 147,
   "id": "0d02c75f-fad5-4927-b25e-acc590e0aa06",
   "metadata": {},
   "outputs": [
    {
     "data": {
      "image/png": "[encoded data removed]",
      "text/plain": [
       "<Figure size 900x600 with 1 Axes>"
      ]
     },
     "metadata": {},
     "output_type": "display_data"
    }
   ],
   "source": [
    "import matplotlib.pyplot as plt\n",
    "import seaborn as sbn\n",
    "\n",
    "custom_colors = [\"#1f77b4\", \"#ff7f0e\", \"#2ca02c\", \"#9467bd\"]\n",
    "\n",
    "fig, ax = plt.subplots(figsize=(9,6))\n",
    "\n",
    "sbn.boxplot(\n",
    "    data=df,\n",
    "    y='grade',\n",
    "    x='percentage',\n",
    "    hue='DA SKILLS',\n",
    "    palette=custom_colors,\n",
    "    ax=ax,\n",
    "    fliersize=3,    \n",
    "    linewidth=1.2   \n",
    ")\n",
    "\n",
    "ax.set_title(\"Percentage Spread by Grade and Data Aanlytics Skills\", fontsize=15, fontweight=\"bold\", color=\"#222222\")\n",
    "ax.set_xlabel(\"Percentages (%)\")\n",
    "ax.set_ylabel(\"Grades\")\n",
    "\n",
    "ax.legend(title=\"Data Analytics Skills\", bbox_to_anchor=(1.05, 1), loc='upper left', frameon=False)\n",
    "\n",
    "plt.tight_layout()\n",
    "plt.show()\n"
   ]
  },
  {
   "cell_type": "code",
   "execution_count": 143,
   "id": "acb409aa-013a-4fd7-8ce8-e22a22b30fa9",
   "metadata": {},
   "outputs": [
    {
     "data": {
      "image/png": "[encoded data removed]",
      "text/plain": [
       "<Figure size 900x600 with 1 Axes>"
      ]
     },
     "metadata": {},
     "output_type": "display_data"
    }
   ],
   "source": [
    "import matplotlib.pyplot as plt\n",
    "import seaborn as sbn\n",
    "custom_colors = [\"#FF6F61\", \"#6B5B95\", \"#88B04B\", \"#FFA500\", \"#009688\"]\n",
    "fig, ax = plt.subplots(figsize=(9,6))\n",
    "sbn.boxplot(\n",
    "    data=df,\n",
    "    y='grade',\n",
    "    x='percentage',\n",
    "    hue='Programming skills',\n",
    "    palette=custom_colors,\n",
    "    ax=ax,\n",
    "    fliersize=3,  \n",
    "    linewidth=1.3  \n",
    ")\n",
    "\n",
    "ax.set_title(\"Grade-wise Percentage Spread by Programming Skills\", fontsize=15, fontweight=\"bold\", color=\"#333333\")\n",
    "ax.set_xlabel(\"Percentage (%)\")\n",
    "ax.set_ylabel(\"Grade\")\n",
    "\n",
    "ax.legend(title=\"Programming Skills\", bbox_to_anchor=(1.05, 1), loc='upper left', frameon=False)\n",
    "\n",
    "plt.tight_layout()\n",
    "plt.show()\n"
   ]
  },
  {
   "cell_type": "code",
   "execution_count": 144,
   "id": "467aac83-900d-468f-b5f1-9ac005aace90",
   "metadata": {},
   "outputs": [
    {
     "data": {
      "image/png": "[encoded data removed]",
      "text/plain": [
       "<Figure size 900x600 with 2 Axes>"
      ]
     },
     "metadata": {},
     "output_type": "display_data"
    }
   ],
   "source": [
    "import matplotlib.pyplot as plt\n",
    "import seaborn as sbn\n",
    "import pandas as pd\n",
    "cross_da = pd.crosstab(df['grade'], df['DA SKILLS'])\n",
    "fig, ax = plt.subplots(figsize=(9,6))\n",
    "\n",
    "sbn.heatmap(\n",
    "    cross_da,\n",
    "    annot=True,\n",
    "    cmap=\"YlGnBu\",   \n",
    "    fmt=\"d\",\n",
    "    linewidths=0.5,\n",
    "    linecolor=\"white\",\n",
    "    cbar_kws={\"label\": \"Count\"}\n",
    ")\n",
    "ax.set_title(\"Data Analytics Skills v/s Grades\", fontsize=15, fontweight=\"bold\", color=\"#222222\")\n",
    "ax.set_xlabel(\"Data Analytics Skills\")\n",
    "ax.set_ylabel(\"Grades\")\n",
    "\n",
    "plt.tight_layout()\n",
    "plt.show()\n"
   ]
  },
  {
   "cell_type": "code",
   "execution_count": null,
   "id": "72e9ead3-1986-45af-af78-061142a80dbb",
   "metadata": {},
   "outputs": [],
   "source": []
  }
 ],
 "metadata": {
  "kernelspec": {
   "display_name": "Python 3.10 (Spark)",
   "language": "python",
   "name": "python310"
  },
  "language_info": {
   "codemirror_mode": {
    "name": "ipython",
    "version": 3
   },
   "file_extension": ".py",
   "mimetype": "text/x-python",
   "name": "python",
   "nbconvert_exporter": "python",
   "pygments_lexer": "ipython3",
   "version": "3.10.0"
  }
 },
 "nbformat": 4,
 "nbformat_minor": 5
}
